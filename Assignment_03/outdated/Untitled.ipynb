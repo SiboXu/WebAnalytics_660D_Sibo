{
 "cells": [
  {
   "cell_type": "code",
   "execution_count": 1,
   "metadata": {},
   "outputs": [],
   "source": [
    "import requests\n",
    "import bs4\n",
    "import pandas as pd\n",
    "import random\n",
    "import time"
   ]
  },
  {
   "cell_type": "code",
   "execution_count": 19,
   "metadata": {},
   "outputs": [],
   "source": [
    "# scraping date: Apr. 3rd 2018\n",
    "url_list = []\n",
    "baseurl_head = 'https://www.amazon.com/RockBirds-Flashlights-Bright-Aluminum-Flashlight/product-reviews/B00X61AJYM/ref=cm_cr_arp_d_paging_btm_1?reviewerType=avp_only_reviews&pageNumber='\n",
    "baseurl_end = '&sortBy=recent'\n",
    "for i in list(range(1,80)):\n",
    "    url = baseurl_head + str(i) + baseurl_end\n",
    "    url_list.append(url)"
   ]
  },
  {
   "cell_type": "code",
   "execution_count": 20,
   "metadata": {},
   "outputs": [],
   "source": [
    "review_list = []\n",
    "headers = {'user-agent': 'my-app/0.0.1'}\n",
    "for url in url_list:\n",
    "    soup = bs4.BeautifulSoup(requests.get(url,  headers=headers,).text, 'html5lib' )\n",
    "    review_div = soup.find_all('div', attrs={'data-hook':'review'})\n",
    "    \n",
    "    for index, review in enumerate(review_div):\n",
    "        detail = []\n",
    "        try:\n",
    "            rate = review.find('i', attrs={'data-hook':'review-star-rating'}).text.strip()\n",
    "            review_title = review.find('a', attrs={'data-hook':'review-title'}).text.strip()\n",
    "            author = review.find('a', attrs={'data-hook':'review-author'}).text.strip()\n",
    "            date = review.find('span', attrs={'data-hook':'review-date'}).text.strip()\n",
    "            review_format = review.find('a', attrs={'data-hook':'format-strip'}).text.strip()\n",
    "            declarative = review.find('a', attrs={'data-reftag':'cm_cr_arp_d_rvw_rvwer'}).text.strip()\n",
    "            review_body = review.find('span', attrs={'data-hook':'review-body'}).text.strip()\n",
    "            image_y_or_no = review.find('div', attrs={'class':'review-image-tile-section '})\n",
    "            if image_y_or_no:\n",
    "                image = True\n",
    "            else:\n",
    "                image = False\n",
    "        except Exception as e:\n",
    "            print (index)\n",
    "        \n",
    "        detail = [author, review_title, rate, date, review_format, declarative, review_body, image]\n",
    "    \n",
    "        review_list.append(detail)\n",
    "        random_delay = random.normalvariate(2, 0.5)\n",
    "        time.sleep(random_delay)"
   ]
  },
  {
   "cell_type": "code",
   "execution_count": 23,
   "metadata": {},
   "outputs": [],
   "source": [
    "header = ['author', 'review_title', 'rate', 'date', 'review_format', 'declarative', 'review_body', 'image']\n",
    "df_amazon = pd.DataFrame(review_list, columns=header)"
   ]
  },
  {
   "cell_type": "code",
   "execution_count": 26,
   "metadata": {},
   "outputs": [],
   "source": [
    "df_amazon.to_json('reviews.json', orient='records')"
   ]
  }
 ],
 "metadata": {
  "kernelspec": {
   "display_name": "Python 3",
   "language": "python",
   "name": "python3"
  },
  "language_info": {
   "codemirror_mode": {
    "name": "ipython",
    "version": 3
   },
   "file_extension": ".py",
   "mimetype": "text/x-python",
   "name": "python",
   "nbconvert_exporter": "python",
   "pygments_lexer": "ipython3",
   "version": "3.6.4"
  }
 },
 "nbformat": 4,
 "nbformat_minor": 2
}
