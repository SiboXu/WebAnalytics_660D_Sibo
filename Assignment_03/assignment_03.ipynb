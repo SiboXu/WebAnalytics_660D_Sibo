{
 "cells": [
  {
   "cell_type": "code",
   "execution_count": 4,
   "metadata": {},
   "outputs": [],
   "source": [
    "import json\n",
    "import pandas as pd\n",
    "import matplotlib.pyplot as plt\n",
    "import numpy as np\n",
    "import re"
   ]
  },
  {
   "cell_type": "code",
   "execution_count": 5,
   "metadata": {},
   "outputs": [],
   "source": [
    "with open('reviews.json') as json_data:\n",
    "    da = json.load(json_data)\n",
    "    review_df = pd.DataFrame(da)"
   ]
  },
  {
   "cell_type": "code",
   "execution_count": 6,
   "metadata": {},
   "outputs": [],
   "source": [
    "# we only need review after 2017-01-01\n",
    "review_df.date = pd.to_datetime(review_df.date)\n",
    "review_df=review_df[review_df['date']>='2017-01-01']"
   ]
  },
  {
   "cell_type": "code",
   "execution_count": 7,
   "metadata": {},
   "outputs": [],
   "source": [
    "# transform the rate into numeric variables\n",
    "for i in range(len(review_df.rate)):\n",
    "    review_df.iloc[i,4]=review_df.rate[i][:3]\n",
    "    review_df.iloc[i,6]=review_df.review_format[i][7:]"
   ]
  },
  {
   "cell_type": "code",
   "execution_count": 8,
   "metadata": {},
   "outputs": [],
   "source": [
    "review_df.rate = review_df.rate.astype(float).fillna(0.0)"
   ]
  },
  {
   "cell_type": "code",
   "execution_count": 9,
   "metadata": {},
   "outputs": [
    {
     "data": {
      "text/html": [
       "<div>\n",
       "<style scoped>\n",
       "    .dataframe tbody tr th:only-of-type {\n",
       "        vertical-align: middle;\n",
       "    }\n",
       "\n",
       "    .dataframe tbody tr th {\n",
       "        vertical-align: top;\n",
       "    }\n",
       "\n",
       "    .dataframe thead th {\n",
       "        text-align: right;\n",
       "    }\n",
       "</style>\n",
       "<table border=\"1\" class=\"dataframe\">\n",
       "  <thead>\n",
       "    <tr style=\"text-align: right;\">\n",
       "      <th></th>\n",
       "      <th>author</th>\n",
       "      <th>date</th>\n",
       "      <th>declarative</th>\n",
       "      <th>image</th>\n",
       "      <th>rate</th>\n",
       "      <th>review_body</th>\n",
       "      <th>review_format</th>\n",
       "      <th>review_title</th>\n",
       "    </tr>\n",
       "  </thead>\n",
       "  <tbody>\n",
       "    <tr>\n",
       "      <th>0</th>\n",
       "      <td>Ryan Shi</td>\n",
       "      <td>2018-04-03</td>\n",
       "      <td>Verified Purchase</td>\n",
       "      <td>False</td>\n",
       "      <td>5.0</td>\n",
       "      <td>small in size, good quality, bright enough. Th...</td>\n",
       "      <td>Black</td>\n",
       "      <td>good quality, bright enough</td>\n",
       "    </tr>\n",
       "    <tr>\n",
       "      <th>1</th>\n",
       "      <td>Fran Dux</td>\n",
       "      <td>2018-04-03</td>\n",
       "      <td>Verified Purchase</td>\n",
       "      <td>False</td>\n",
       "      <td>2.0</td>\n",
       "      <td>The zoom does not work on any of the flashligh...</td>\n",
       "      <td>4 Pack</td>\n",
       "      <td>I do not recommend this flashlight</td>\n",
       "    </tr>\n",
       "    <tr>\n",
       "      <th>2</th>\n",
       "      <td>CHENGCHEN</td>\n",
       "      <td>2018-04-02</td>\n",
       "      <td>Verified Purchase</td>\n",
       "      <td>False</td>\n",
       "      <td>5.0</td>\n",
       "      <td>These were great and worth every penny.</td>\n",
       "      <td>Black</td>\n",
       "      <td>Five Stars</td>\n",
       "    </tr>\n",
       "    <tr>\n",
       "      <th>3</th>\n",
       "      <td>Cindy</td>\n",
       "      <td>2018-03-31</td>\n",
       "      <td>Verified Purchase</td>\n",
       "      <td>False</td>\n",
       "      <td>5.0</td>\n",
       "      <td>This is a great mini flashlights! The size is ...</td>\n",
       "      <td>Black</td>\n",
       "      <td>This is a great mini flashlights</td>\n",
       "    </tr>\n",
       "    <tr>\n",
       "      <th>4</th>\n",
       "      <td>Andrew</td>\n",
       "      <td>2018-03-31</td>\n",
       "      <td>Verified Purchase</td>\n",
       "      <td>False</td>\n",
       "      <td>5.0</td>\n",
       "      <td>Little cute flesh lights! Love it. Small , han...</td>\n",
       "      <td>Black</td>\n",
       "      <td>Love it. Small</td>\n",
       "    </tr>\n",
       "  </tbody>\n",
       "</table>\n",
       "</div>"
      ],
      "text/plain": [
       "      author       date        declarative  image  rate  \\\n",
       "0   Ryan Shi 2018-04-03  Verified Purchase  False   5.0   \n",
       "1   Fran Dux 2018-04-03  Verified Purchase  False   2.0   \n",
       "2  CHENGCHEN 2018-04-02  Verified Purchase  False   5.0   \n",
       "3      Cindy 2018-03-31  Verified Purchase  False   5.0   \n",
       "4     Andrew 2018-03-31  Verified Purchase  False   5.0   \n",
       "\n",
       "                                         review_body review_format  \\\n",
       "0  small in size, good quality, bright enough. Th...         Black   \n",
       "1  The zoom does not work on any of the flashligh...        4 Pack   \n",
       "2            These were great and worth every penny.         Black   \n",
       "3  This is a great mini flashlights! The size is ...         Black   \n",
       "4  Little cute flesh lights! Love it. Small , han...         Black   \n",
       "\n",
       "                         review_title  \n",
       "0         good quality, bright enough  \n",
       "1  I do not recommend this flashlight  \n",
       "2                          Five Stars  \n",
       "3    This is a great mini flashlights  \n",
       "4                      Love it. Small  "
      ]
     },
     "execution_count": 9,
     "metadata": {},
     "output_type": "execute_result"
    }
   ],
   "source": [
    "# take a look at the data\n",
    "review_df.head()"
   ]
  },
  {
   "cell_type": "code",
   "execution_count": 10,
   "metadata": {},
   "outputs": [
    {
     "name": "stdout",
     "output_type": "stream",
     "text": [
      "<class 'pandas.core.frame.DataFrame'>\n",
      "Int64Index: 761 entries, 0 to 760\n",
      "Data columns (total 8 columns):\n",
      "author           761 non-null object\n",
      "date             761 non-null datetime64[ns]\n",
      "declarative      761 non-null object\n",
      "image            761 non-null bool\n",
      "rate             761 non-null float64\n",
      "review_body      761 non-null object\n",
      "review_format    761 non-null object\n",
      "review_title     761 non-null object\n",
      "dtypes: bool(1), datetime64[ns](1), float64(1), object(5)\n",
      "memory usage: 68.3+ KB\n"
     ]
    }
   ],
   "source": [
    "review_df.info()"
   ]
  },
  {
   "cell_type": "markdown",
   "metadata": {},
   "source": [
    "## Content\n",
    "- I mainly performed logistic regression and SVM on the scraped data and made analysis on the results of both methods.\n",
    "- In order to improve the performance of the algorithms, I tried SMOTE and feature selection. But they didn't improve the accuracy of the models for some reason.\n",
    "- The content of this assignment is listed as below:\n",
    "     1. EDA\n",
    "     2. Preprocessing method\n",
    "     3. Build the model\n",
    "     4. Algorithm analysis\n",
    "     5. Attachment (Other methods)"
   ]
  },
  {
   "cell_type": "markdown",
   "metadata": {},
   "source": [
    "# 1. EDA of the Amazon review dataset for Flashlights."
   ]
  },
  {
   "cell_type": "markdown",
   "metadata": {},
   "source": [
    "## 1.1 Histogram of rates and insights from whether having images in the review or not.\n",
    " - Most of the rates are 5, and only few comments have images.\n",
    " - This is a imbalanced dataset.\n",
    " - people updated images of the product tends to give high rate score as well."
   ]
  },
  {
   "cell_type": "code",
   "execution_count": 11,
   "metadata": {},
   "outputs": [
    {
     "data": {
      "image/png": "[encoded data removed]",
      "text/plain": [
       "<Figure size 720x360 with 2 Axes>"
      ]
     },
     "metadata": {},
     "output_type": "display_data"
    },
    {
     "name": "stdout",
     "output_type": "stream",
     "text": [
      "5.0    493\n",
      "4.0    107\n",
      "1.0     68\n",
      "3.0     49\n",
      "2.0     44\n",
      "Name: rate, dtype: int64\n",
      "False    739\n",
      "True      22\n",
      "Name: image, dtype: int64\n"
     ]
    },
    {
     "data": {
      "image/png": "[encoded data removed]",
      "text/plain": [
       "<Figure size 432x288 with 1 Axes>"
      ]
     },
     "metadata": {},
     "output_type": "display_data"
    },
    {
     "name": "stdout",
     "output_type": "stream",
     "text": [
      "5.0    16\n",
      "4.0     3\n",
      "2.0     2\n",
      "1.0     1\n",
      "Name: rate, dtype: int64\n"
     ]
    }
   ],
   "source": [
    "%matplotlib inline\n",
    "# histogram of the Amazon data\n",
    "import matplotlib.pyplot as plt\n",
    "review_df.hist(figsize=(10,5))\n",
    "plt.show()\n",
    "print(review_df.rate.value_counts())\n",
    "print (review_df.image.value_counts())\n",
    "image_review = review_df[review_df.image==True]\n",
    "plt.hist(image_review.rate)\n",
    "plt.title('The histogram of the rate with the images')\n",
    "plt.show()\n",
    "print(image_review.rate.value_counts())"
   ]
  },
  {
   "cell_type": "markdown",
   "metadata": {},
   "source": [
    "-  **Insight from products formats information (Black, 4-pack, and 6-pack)**\n",
    "- Most of the customers bought black and only few of them bought 4-pack and 6-pack. \n",
    "- Customers bought 4-pack and 6-pack product tend to give high review score."
   ]
  },
  {
   "cell_type": "code",
   "execution_count": 12,
   "metadata": {},
   "outputs": [
    {
     "data": {
      "image/png": "[encoded data removed]",
      "text/plain": [
       "<Figure size 432x288 with 1 Axes>"
      ]
     },
     "metadata": {},
     "output_type": "display_data"
    },
    {
     "data": {
      "text/plain": [
       "Black     677\n",
       "4 Pack     57\n",
       "6 pack     27\n",
       "Name: review_format, dtype: int64"
      ]
     },
     "execution_count": 12,
     "metadata": {},
     "output_type": "execute_result"
    }
   ],
   "source": [
    "review_df.review_format.value_counts().plot('bar')\n",
    "plt.title('Histogram of products formats')\n",
    "plt.show()\n",
    "review_df.review_format.value_counts()"
   ]
  },
  {
   "cell_type": "code",
   "execution_count": 13,
   "metadata": {},
   "outputs": [
    {
     "data": {
      "image/png": "[encoded data removed]",
      "text/plain": [
       "<Figure size 432x288 with 1 Axes>"
      ]
     },
     "metadata": {},
     "output_type": "display_data"
    },
    {
     "name": "stdout",
     "output_type": "stream",
     "text": [
      "5.0    38\n",
      "3.0     8\n",
      "4.0     6\n",
      "2.0     3\n",
      "1.0     2\n",
      "Name: rate, dtype: int64\n"
     ]
    },
    {
     "data": {
      "image/png": "[encoded data removed]",
      "text/plain": [
       "<Figure size 432x288 with 1 Axes>"
      ]
     },
     "metadata": {},
     "output_type": "display_data"
    },
    {
     "name": "stdout",
     "output_type": "stream",
     "text": [
      "5.0    21\n",
      "4.0     6\n",
      "Name: rate, dtype: int64\n"
     ]
    }
   ],
   "source": [
    "pack4_review = review_df[review_df.review_format=='4 Pack']\n",
    "plt.hist(pack4_review.rate)\n",
    "plt.title('The histogram of rate for 4-pack')\n",
    "plt.show()\n",
    "print(pack4_review.rate.value_counts())\n",
    "pack6_review = review_df[review_df.review_format=='6 pack']\n",
    "plt.hist(pack6_review.rate)\n",
    "plt.title('The histogram of rate for 6-pack')\n",
    "plt.show()\n",
    "print(pack6_review.rate.value_counts())"
   ]
  },
  {
   "cell_type": "markdown",
   "metadata": {},
   "source": [
    "## 1.2 Analyzing Authors' names of the review to check if spammers exist. "
   ]
  },
  {
   "cell_type": "code",
   "execution_count": 14,
   "metadata": {},
   "outputs": [],
   "source": [
    "from sklearn.feature_extraction.text import CountVectorizer"
   ]
  },
  {
   "cell_type": "code",
   "execution_count": 15,
   "metadata": {},
   "outputs": [
    {
     "name": "stdout",
     "output_type": "stream",
     "text": [
      "First 30 the most frequent unigrams in the reviewers's name:\n",
      "['aaron', 'amazon', 'charles', 'chris', 'customer', 'dan', 'daniel', 'david', 'de', 'douglas', 'ed', 'edward', 'eric', 'george', 'james', 'john', 'josh', 'jr', 'mark', 'mary', 'michael', 'mike', 'of', 'richard', 'robert', 'ryan', 'smith', 'the', 'tom', 'william']\n",
      "\n",
      "How many times they appears:\n",
      "[ 3 82  5  6 85  3  4  5  5  4  3  5  5  5  9  7  3  3  3  3 11  6  3  8\n",
      "  9  5  3  4  4  5]\n"
     ]
    }
   ],
   "source": [
    "cv = CountVectorizer(lowercase=True, max_features=30)\n",
    "data_name = cv.fit_transform(review_df.author)\n",
    "#data_name.toarray()\n",
    "uniname_array = data_name.toarray()\n",
    "print ('First 30 the most frequent unigrams in the reviewers\\'s name:')\n",
    "print (cv.get_feature_names())\n",
    "print ('\\nHow many times they appears:')\n",
    "print (uniname_array.sum(axis=0))"
   ]
  },
  {
   "cell_type": "code",
   "execution_count": 16,
   "metadata": {},
   "outputs": [
    {
     "name": "stdout",
     "output_type": "stream",
     "text": [
      "First 30 the most frequent bigrams in the reviewers's name:\n",
      "['201 escape', 'amazon customer', 'cliente amazon', 'miguel arellano', 'miguel niño', 'mike holmes', 'miller jr', 'mohand reyyashi', 'mohit gangwani', 'mr charles', 'ms dee', 'ms dimas', 'natalie sanchez', 'nelson jr', 'nic ng', 'nicholas caporusso', 'nicole friez', 'nikki sotelo', 'niño lara', 'norman avelenda', 'omar lopez', 'pablo caballero', 'paun marin', 'peggy lightner', 'penny lane', 'pete felicijan', 'peter dandyk', 'philip sinson', 'phoenix ikki', 'picky nancy']\n",
      "\n",
      "How many times they appears:\n",
      "[ 1 80  2  1  1  1  1  1  1  1  1  1  1  1  1  1  1  1  1  1  1  1  1  1\n",
      "  1  1  1  1  1  1]\n"
     ]
    }
   ],
   "source": [
    "cv = CountVectorizer(lowercase=True, stop_words='english', ngram_range=(2, 2), max_features=30)\n",
    "data_name_bigram = cv.fit_transform(review_df.author)\n",
    "biname_array = data_name_bigram.toarray()\n",
    "#print(data_name_bigram.toarray())\n",
    "print ('First 30 the most frequent bigrams in the reviewers\\'s name:')\n",
    "print (cv.get_feature_names())\n",
    "print ('\\nHow many times they appears:')\n",
    "print (biname_array.sum(axis=0))"
   ]
  },
  {
   "cell_type": "code",
   "execution_count": 17,
   "metadata": {},
   "outputs": [
    {
     "name": "stdout",
     "output_type": "stream",
     "text": [
      "The most frequent trigrams in the reviewers's name:\n",
      "['201 escape room', 'amazon customer k4gwg', 'butta yehonatan yaakove', 'caroline dai prá', 'cattle dog lady', 'charles boy jr', 'crazy cattle dog', 'customer k4gwg gmail', 'dee burdick desanti', 'dr lrf dpt', 'george miller jr', 'james yelle sr', 'jesus la torre', 'k4gwg gmail om', 'luis miguel niño', 'miguel niño lara', 'mr charles keiper', 'red shoe lover', 'reyes eli banda', 'robert nelson jr', 'spaniel luver todd', 'suite 201 escape', 'wade alexander wright', 'wi farm family', 'william lee hannibal', 'william van nostrand']\n",
      "\n",
      "How many times they appears:\n",
      "[1 1 1 1 1 1 1 1 1 1 1 1 1 1 1 1 1 1 1 1 1 1 1 1 1 1]\n"
     ]
    }
   ],
   "source": [
    "cv = CountVectorizer(lowercase=True, stop_words='english', ngram_range=(3, 3))\n",
    "data_name_bigram = cv.fit_transform(review_df.author)\n",
    "biname_array = data_name_bigram.toarray()\n",
    "#print(data_name_bigram.toarray())\n",
    "print ('The most frequent trigrams in the reviewers\\'s name:')\n",
    "print (cv.get_feature_names())\n",
    "print ('\\nHow many times they appears:')\n",
    "print (biname_array.sum(axis=0))"
   ]
  },
  {
   "cell_type": "code",
   "execution_count": 18,
   "metadata": {},
   "outputs": [
    {
     "data": {
      "text/html": [
       "<div>\n",
       "<style scoped>\n",
       "    .dataframe tbody tr th:only-of-type {\n",
       "        vertical-align: middle;\n",
       "    }\n",
       "\n",
       "    .dataframe tbody tr th {\n",
       "        vertical-align: top;\n",
       "    }\n",
       "\n",
       "    .dataframe thead th {\n",
       "        text-align: right;\n",
       "    }\n",
       "</style>\n",
       "<table border=\"1\" class=\"dataframe\">\n",
       "  <thead>\n",
       "    <tr style=\"text-align: right;\">\n",
       "      <th></th>\n",
       "      <th>size</th>\n",
       "    </tr>\n",
       "    <tr>\n",
       "      <th>author</th>\n",
       "      <th></th>\n",
       "    </tr>\n",
       "  </thead>\n",
       "  <tbody>\n",
       "    <tr>\n",
       "      <th>Aaron</th>\n",
       "      <td>2</td>\n",
       "    </tr>\n",
       "    <tr>\n",
       "      <th>Amazon Customer</th>\n",
       "      <td>78</td>\n",
       "    </tr>\n",
       "    <tr>\n",
       "      <th>Andrew</th>\n",
       "      <td>2</td>\n",
       "    </tr>\n",
       "    <tr>\n",
       "      <th>B</th>\n",
       "      <td>2</td>\n",
       "    </tr>\n",
       "    <tr>\n",
       "      <th>CJ</th>\n",
       "      <td>2</td>\n",
       "    </tr>\n",
       "    <tr>\n",
       "      <th>Chris</th>\n",
       "      <td>4</td>\n",
       "    </tr>\n",
       "    <tr>\n",
       "      <th>Cliente de Amazon</th>\n",
       "      <td>2</td>\n",
       "    </tr>\n",
       "    <tr>\n",
       "      <th>Dan</th>\n",
       "      <td>2</td>\n",
       "    </tr>\n",
       "    <tr>\n",
       "      <th>Eric</th>\n",
       "      <td>4</td>\n",
       "    </tr>\n",
       "    <tr>\n",
       "      <th>Happy</th>\n",
       "      <td>2</td>\n",
       "    </tr>\n",
       "    <tr>\n",
       "      <th>John</th>\n",
       "      <td>2</td>\n",
       "    </tr>\n",
       "    <tr>\n",
       "      <th>Matthew</th>\n",
       "      <td>2</td>\n",
       "    </tr>\n",
       "    <tr>\n",
       "      <th>Mike</th>\n",
       "      <td>3</td>\n",
       "    </tr>\n",
       "    <tr>\n",
       "      <th>Robert</th>\n",
       "      <td>2</td>\n",
       "    </tr>\n",
       "    <tr>\n",
       "      <th>george</th>\n",
       "      <td>2</td>\n",
       "    </tr>\n",
       "  </tbody>\n",
       "</table>\n",
       "</div>"
      ],
      "text/plain": [
       "                   size\n",
       "author                 \n",
       "Aaron                 2\n",
       "Amazon Customer      78\n",
       "Andrew                2\n",
       "B                     2\n",
       "CJ                    2\n",
       "Chris                 4\n",
       "Cliente de Amazon     2\n",
       "Dan                   2\n",
       "Eric                  4\n",
       "Happy                 2\n",
       "John                  2\n",
       "Matthew               2\n",
       "Mike                  3\n",
       "Robert                2\n",
       "george                2"
      ]
     },
     "execution_count": 18,
     "metadata": {},
     "output_type": "execute_result"
    }
   ],
   "source": [
    "# group by names \n",
    "# show the replicated names\n",
    "counts = review_df.groupby('author').size()\n",
    "df2 = pd.DataFrame(counts, columns = ['size'])\n",
    "df2[df2['size']>1]"
   ]
  },
  {
   "cell_type": "markdown",
   "metadata": {},
   "source": [
    "### Findings from the authors' name length: \n",
    "- As it can be seen from the above analysis, there are many authors' names starting with **Amazon customer** (there are 78 in totoal). It might be possible that some of them are spammers.\n",
    "- The next step is to check if they are spammers who would usually give very high rate without useful/meaningful comments.\n",
    "- Also, I will check if there are spammers existing in other name categories (i.e. bigram and unigram)."
   ]
  },
  {
   "cell_type": "markdown",
   "metadata": {},
   "source": [
    "### First, check users with user name of 'Amazon Customer'.\n",
    "- As it can be seen from the below analysis, the reviews are pretty simple but with clear opinion to some extent from these customers, and there might have some fake reviews in this 'Amazon Customer' subset but I don't think there will be many."
   ]
  },
  {
   "cell_type": "code",
   "execution_count": 19,
   "metadata": {
    "scrolled": true
   },
   "outputs": [
    {
     "data": {
      "text/html": [
       "<div>\n",
       "<style scoped>\n",
       "    .dataframe tbody tr th:only-of-type {\n",
       "        vertical-align: middle;\n",
       "    }\n",
       "\n",
       "    .dataframe tbody tr th {\n",
       "        vertical-align: top;\n",
       "    }\n",
       "\n",
       "    .dataframe thead th {\n",
       "        text-align: right;\n",
       "    }\n",
       "</style>\n",
       "<table border=\"1\" class=\"dataframe\">\n",
       "  <thead>\n",
       "    <tr style=\"text-align: right;\">\n",
       "      <th></th>\n",
       "      <th>author</th>\n",
       "      <th>date</th>\n",
       "      <th>declarative</th>\n",
       "      <th>image</th>\n",
       "      <th>rate</th>\n",
       "      <th>review_body</th>\n",
       "      <th>review_format</th>\n",
       "      <th>review_title</th>\n",
       "    </tr>\n",
       "  </thead>\n",
       "  <tbody>\n",
       "    <tr>\n",
       "      <th>12</th>\n",
       "      <td>Amazon Customer</td>\n",
       "      <td>2018-03-25</td>\n",
       "      <td>Verified Purchase</td>\n",
       "      <td>False</td>\n",
       "      <td>5.0</td>\n",
       "      <td>A perfect flashlight,it’s easy to carry .The l...</td>\n",
       "      <td>Black</td>\n",
       "      <td>A perfect flashlight, it’s easy to carry</td>\n",
       "    </tr>\n",
       "    <tr>\n",
       "      <th>15</th>\n",
       "      <td>Amazon Customer</td>\n",
       "      <td>2018-03-20</td>\n",
       "      <td>Verified Purchase</td>\n",
       "      <td>False</td>\n",
       "      <td>5.0</td>\n",
       "      <td>These small LED flashlights are wonderful!  Sm...</td>\n",
       "      <td>Black</td>\n",
       "      <td>Five Stars</td>\n",
       "    </tr>\n",
       "    <tr>\n",
       "      <th>23</th>\n",
       "      <td>Amazon Customer</td>\n",
       "      <td>2018-03-12</td>\n",
       "      <td>Verified Purchase</td>\n",
       "      <td>False</td>\n",
       "      <td>5.0</td>\n",
       "      <td>Excellent deal for a pair of probably most eff...</td>\n",
       "      <td>Black</td>\n",
       "      <td>Five Stars</td>\n",
       "    </tr>\n",
       "    <tr>\n",
       "      <th>50</th>\n",
       "      <td>Amazon Customer</td>\n",
       "      <td>2018-01-27</td>\n",
       "      <td>Verified Purchase</td>\n",
       "      <td>False</td>\n",
       "      <td>4.0</td>\n",
       "      <td>The best thing on this phone is that it is stu...</td>\n",
       "      <td>Black</td>\n",
       "      <td>Great small flashlight!</td>\n",
       "    </tr>\n",
       "    <tr>\n",
       "      <th>53</th>\n",
       "      <td>Amazon Customer</td>\n",
       "      <td>2018-01-25</td>\n",
       "      <td>Verified Purchase</td>\n",
       "      <td>False</td>\n",
       "      <td>3.0</td>\n",
       "      <td>These lights seem to have issues after a littl...</td>\n",
       "      <td>Black</td>\n",
       "      <td>Uhh</td>\n",
       "    </tr>\n",
       "  </tbody>\n",
       "</table>\n",
       "</div>"
      ],
      "text/plain": [
       "             author       date        declarative  image  rate  \\\n",
       "12  Amazon Customer 2018-03-25  Verified Purchase  False   5.0   \n",
       "15  Amazon Customer 2018-03-20  Verified Purchase  False   5.0   \n",
       "23  Amazon Customer 2018-03-12  Verified Purchase  False   5.0   \n",
       "50  Amazon Customer 2018-01-27  Verified Purchase  False   4.0   \n",
       "53  Amazon Customer 2018-01-25  Verified Purchase  False   3.0   \n",
       "\n",
       "                                          review_body review_format  \\\n",
       "12  A perfect flashlight,it’s easy to carry .The l...         Black   \n",
       "15  These small LED flashlights are wonderful!  Sm...         Black   \n",
       "23  Excellent deal for a pair of probably most eff...         Black   \n",
       "50  The best thing on this phone is that it is stu...         Black   \n",
       "53  These lights seem to have issues after a littl...         Black   \n",
       "\n",
       "                                review_title  \n",
       "12  A perfect flashlight, it’s easy to carry  \n",
       "15                                Five Stars  \n",
       "23                                Five Stars  \n",
       "50                   Great small flashlight!  \n",
       "53                                       Uhh  "
      ]
     },
     "execution_count": 19,
     "metadata": {},
     "output_type": "execute_result"
    }
   ],
   "source": [
    "# First, we should check the replicated name 'Amazon Customer' to see if there are fake reviews from these users.\n",
    "index_amazon = []\n",
    "for i in range(len(review_df.author)):\n",
    "    if review_df.iloc[i, 0].startswith('Amazon'):\n",
    "        index_amazon.append(i)\n",
    "df_new = review_df.loc[index_amazon, :]\n",
    "df_new.head()"
   ]
  },
  {
   "cell_type": "code",
   "execution_count": 20,
   "metadata": {},
   "outputs": [],
   "source": [
    "length = []\n",
    "for i in range(len(df_new.author)):\n",
    "    length_name = len(df_new.iloc[i, 0])\n",
    "    length.append(length_name)"
   ]
  },
  {
   "cell_type": "code",
   "execution_count": 21,
   "metadata": {},
   "outputs": [
    {
     "data": {
      "image/png": "[encoded data removed]",
      "text/plain": [
       "<Figure size 720x360 with 2 Axes>"
      ]
     },
     "metadata": {},
     "output_type": "display_data"
    }
   ],
   "source": [
    "#plot histogram of the 'Amazon Customer'\n",
    "df_new.hist(figsize=(10,5))\n",
    "plt.show()\n",
    "# these customers never update images of the products."
   ]
  },
  {
   "cell_type": "code",
   "execution_count": 22,
   "metadata": {
    "scrolled": true
   },
   "outputs": [
    {
     "data": {
      "text/html": [
       "<div>\n",
       "<style scoped>\n",
       "    .dataframe tbody tr th:only-of-type {\n",
       "        vertical-align: middle;\n",
       "    }\n",
       "\n",
       "    .dataframe tbody tr th {\n",
       "        vertical-align: top;\n",
       "    }\n",
       "\n",
       "    .dataframe thead th {\n",
       "        text-align: right;\n",
       "    }\n",
       "</style>\n",
       "<table border=\"1\" class=\"dataframe\">\n",
       "  <thead>\n",
       "    <tr style=\"text-align: right;\">\n",
       "      <th></th>\n",
       "      <th>author</th>\n",
       "      <th>date</th>\n",
       "      <th>declarative</th>\n",
       "      <th>image</th>\n",
       "      <th>rate</th>\n",
       "      <th>review_body</th>\n",
       "      <th>review_format</th>\n",
       "      <th>review_title</th>\n",
       "    </tr>\n",
       "  </thead>\n",
       "  <tbody>\n",
       "    <tr>\n",
       "      <th>57</th>\n",
       "      <td>Amazon Customer</td>\n",
       "      <td>2018-01-17</td>\n",
       "      <td>Verified Purchase</td>\n",
       "      <td>False</td>\n",
       "      <td>5.0</td>\n",
       "      <td>GREAT little flashlights!  Powerful, tough, in...</td>\n",
       "      <td>Black</td>\n",
       "      <td>Powerful, tough, inexpensive</td>\n",
       "    </tr>\n",
       "    <tr>\n",
       "      <th>92</th>\n",
       "      <td>Amazon Customer</td>\n",
       "      <td>2017-12-22</td>\n",
       "      <td>Verified Purchase</td>\n",
       "      <td>False</td>\n",
       "      <td>5.0</td>\n",
       "      <td>Very bright nice flashlight.</td>\n",
       "      <td>Black</td>\n",
       "      <td>Five Stars</td>\n",
       "    </tr>\n",
       "    <tr>\n",
       "      <th>138</th>\n",
       "      <td>Amazon Customer</td>\n",
       "      <td>2017-11-17</td>\n",
       "      <td>Verified Purchase</td>\n",
       "      <td>False</td>\n",
       "      <td>5.0</td>\n",
       "      <td>perfect little flashlights!</td>\n",
       "      <td>4 Pack</td>\n",
       "      <td>Love these cute little flashlights</td>\n",
       "    </tr>\n",
       "    <tr>\n",
       "      <th>174</th>\n",
       "      <td>Amazon Customer</td>\n",
       "      <td>2017-11-01</td>\n",
       "      <td>Verified Purchase</td>\n",
       "      <td>False</td>\n",
       "      <td>5.0</td>\n",
       "      <td>Awesome flashlights!</td>\n",
       "      <td>Black</td>\n",
       "      <td>Five Stars</td>\n",
       "    </tr>\n",
       "    <tr>\n",
       "      <th>181</th>\n",
       "      <td>Amazon Customer</td>\n",
       "      <td>2017-10-28</td>\n",
       "      <td>Verified Purchase</td>\n",
       "      <td>False</td>\n",
       "      <td>5.0</td>\n",
       "      <td>Great lights</td>\n",
       "      <td>Black</td>\n",
       "      <td>Five Stars</td>\n",
       "    </tr>\n",
       "  </tbody>\n",
       "</table>\n",
       "</div>"
      ],
      "text/plain": [
       "              author       date        declarative  image  rate  \\\n",
       "57   Amazon Customer 2018-01-17  Verified Purchase  False   5.0   \n",
       "92   Amazon Customer 2017-12-22  Verified Purchase  False   5.0   \n",
       "138  Amazon Customer 2017-11-17  Verified Purchase  False   5.0   \n",
       "174  Amazon Customer 2017-11-01  Verified Purchase  False   5.0   \n",
       "181  Amazon Customer 2017-10-28  Verified Purchase  False   5.0   \n",
       "\n",
       "                                           review_body review_format  \\\n",
       "57   GREAT little flashlights!  Powerful, tough, in...         Black   \n",
       "92                        Very bright nice flashlight.         Black   \n",
       "138                        perfect little flashlights!        4 Pack   \n",
       "174                               Awesome flashlights!         Black   \n",
       "181                                       Great lights         Black   \n",
       "\n",
       "                           review_title  \n",
       "57         Powerful, tough, inexpensive  \n",
       "92                           Five Stars  \n",
       "138  Love these cute little flashlights  \n",
       "174                          Five Stars  \n",
       "181                          Five Stars  "
      ]
     },
     "execution_count": 22,
     "metadata": {},
     "output_type": "execute_result"
    }
   ],
   "source": [
    "# If we only take users with name \"amazon customer\", rate >=5, and the review length < 10.\n",
    "# It seems these customers are very possible some one-time customers, who only register to buy thing from Amazon \n",
    "# when they want this product or somebody doesn't have an Amazon account.\n",
    "list_index = []\n",
    "for i in range(len(df_new.review_body)):\n",
    "    count = len(re.findall(r'\\w+', df_new.iloc[i,5]))\n",
    "    rate = df_new.iloc[i,4]\n",
    "    if count<10 and rate>=4:\n",
    "        list_index.append(i)\n",
    "df_new.iloc[list_index, :].head()"
   ]
  },
  {
   "cell_type": "markdown",
   "metadata": {},
   "source": [
    "### Then, check users with one-word username and two-word username. \n",
    "- **Insight:**\n",
    "- As it can be seen from the below analysis, some of the reviews' quality are pretty poor with only one word (e.g. Great, Good, etc.) from both categories. \n",
    "- Most of the users are using one-word username or two-word username in this Amazon Review dataset.\n",
    "- And comparing to the previous analysis, it's more possible to have fake reviews from these two subsets."
   ]
  },
  {
   "cell_type": "code",
   "execution_count": 23,
   "metadata": {},
   "outputs": [],
   "source": [
    "# Get the histogram of the usernames' length.\n",
    "cv = CountVectorizer(lowercase=True)\n",
    "data_name = cv.fit_transform(review_df.author)\n",
    "uniname_array = data_name.toarray()\n",
    "name_array = uniname_array.sum(axis=1)"
   ]
  },
  {
   "cell_type": "code",
   "execution_count": 24,
   "metadata": {},
   "outputs": [
    {
     "data": {
      "image/png": "[encoded data removed]",
      "text/plain": [
       "<Figure size 432x288 with 1 Axes>"
      ]
     },
     "metadata": {},
     "output_type": "display_data"
    }
   ],
   "source": [
    "plt.hist(name_array)\n",
    "plt.title('The distribution of the names\\' length')\n",
    "plt.show()\n",
    "# most of the usernames are in 2 words or 3 words."
   ]
  },
  {
   "cell_type": "code",
   "execution_count": 25,
   "metadata": {},
   "outputs": [],
   "source": [
    "# get two seprate dataframe for one-word name and two-word name users.\n",
    "two_name_customer = []\n",
    "one_name_customer = []\n",
    "for i in range(len(review_df.author)):\n",
    "    count = len(re.findall(r'\\w+', review_df.iloc[i,0]))\n",
    "    if count == 2:\n",
    "        two_name_customer.append(i)\n",
    "    if count == 1:\n",
    "        one_name_customer.append(i)\n",
    "df_biname = review_df.loc[two_name_customer, :]\n",
    "df_uniname = review_df.loc[one_name_customer, :]"
   ]
  },
  {
   "cell_type": "code",
   "execution_count": 26,
   "metadata": {},
   "outputs": [],
   "source": [
    "review_length_biname = []\n",
    "for i in range(len(df_biname.review_body)):\n",
    "    #n_count = \n",
    "    count = len(re.findall(r'\\w+', df_biname.iloc[i,5]))\n",
    "    if count<10:\n",
    "        list_index.append(i)\n",
    "    review_length_biname.append(count)"
   ]
  },
  {
   "cell_type": "code",
   "execution_count": 27,
   "metadata": {
    "scrolled": true
   },
   "outputs": [
    {
     "data": {
      "image/png": "[encoded data removed]",
      "text/plain": [
       "<Figure size 432x288 with 1 Axes>"
      ]
     },
     "metadata": {},
     "output_type": "display_data"
    }
   ],
   "source": [
    "df_biname.rate.hist()\n",
    "plt.title('two-word name users (rate)')\n",
    "plt.show()"
   ]
  },
  {
   "cell_type": "code",
   "execution_count": 28,
   "metadata": {},
   "outputs": [
    {
     "data": {
      "image/png": "[encoded data removed]",
      "text/plain": [
       "<Figure size 432x288 with 1 Axes>"
      ]
     },
     "metadata": {},
     "output_type": "display_data"
    }
   ],
   "source": [
    "df_uniname.rate.hist()\n",
    "plt.title('one-word name users (rate)')\n",
    "plt.show()"
   ]
  },
  {
   "cell_type": "code",
   "execution_count": 29,
   "metadata": {},
   "outputs": [
    {
     "data": {
      "image/png": "[encoded data removed]",
      "text/plain": [
       "<Figure size 432x288 with 1 Axes>"
      ]
     },
     "metadata": {},
     "output_type": "display_data"
    }
   ],
   "source": [
    "plt.hist(review_length_biname, bins=50)\n",
    "plt.title('Distribution of review\\'s length from two-word username')\n",
    "plt.show()"
   ]
  },
  {
   "cell_type": "code",
   "execution_count": 30,
   "metadata": {},
   "outputs": [],
   "source": [
    "# look at what two-word name user said about the product and the rate from them\n",
    "list_index_two = []\n",
    "for i in range(len(df_biname.review_body)):\n",
    "    #n_count = \n",
    "    count = len(re.findall(r'\\w+', df_biname.iloc[i,5]))\n",
    "    rate = df_biname.iloc[i,4]\n",
    "    if count<10 and rate>=4:\n",
    "        list_index_two.append(i)\n",
    "    #review_length_biname.append(count)"
   ]
  },
  {
   "cell_type": "code",
   "execution_count": 31,
   "metadata": {},
   "outputs": [
    {
     "data": {
      "text/html": [
       "<div>\n",
       "<style scoped>\n",
       "    .dataframe tbody tr th:only-of-type {\n",
       "        vertical-align: middle;\n",
       "    }\n",
       "\n",
       "    .dataframe tbody tr th {\n",
       "        vertical-align: top;\n",
       "    }\n",
       "\n",
       "    .dataframe thead th {\n",
       "        text-align: right;\n",
       "    }\n",
       "</style>\n",
       "<table border=\"1\" class=\"dataframe\">\n",
       "  <thead>\n",
       "    <tr style=\"text-align: right;\">\n",
       "      <th></th>\n",
       "      <th>author</th>\n",
       "      <th>date</th>\n",
       "      <th>declarative</th>\n",
       "      <th>image</th>\n",
       "      <th>rate</th>\n",
       "      <th>review_body</th>\n",
       "      <th>review_format</th>\n",
       "      <th>review_title</th>\n",
       "    </tr>\n",
       "  </thead>\n",
       "  <tbody>\n",
       "    <tr>\n",
       "      <th>13</th>\n",
       "      <td>a.miller</td>\n",
       "      <td>2018-03-25</td>\n",
       "      <td>Verified Purchase</td>\n",
       "      <td>False</td>\n",
       "      <td>4.0</td>\n",
       "      <td>you get what pay for</td>\n",
       "      <td>Black</td>\n",
       "      <td>Four Stars</td>\n",
       "    </tr>\n",
       "    <tr>\n",
       "      <th>17</th>\n",
       "      <td>William Vuzzo</td>\n",
       "      <td>2018-03-18</td>\n",
       "      <td>Verified Purchase</td>\n",
       "      <td>False</td>\n",
       "      <td>5.0</td>\n",
       "      <td>These are great for work. Get the upgraded bat...</td>\n",
       "      <td>Black</td>\n",
       "      <td>Five Stars</td>\n",
       "    </tr>\n",
       "    <tr>\n",
       "      <th>20</th>\n",
       "      <td>Robert W.</td>\n",
       "      <td>2018-03-17</td>\n",
       "      <td>Verified Purchase</td>\n",
       "      <td>False</td>\n",
       "      <td>5.0</td>\n",
       "      <td>Works great.</td>\n",
       "      <td>6 pack</td>\n",
       "      <td>Five Stars</td>\n",
       "    </tr>\n",
       "    <tr>\n",
       "      <th>28</th>\n",
       "      <td>Hailing L.</td>\n",
       "      <td>2018-02-27</td>\n",
       "      <td>Verified Purchase</td>\n",
       "      <td>False</td>\n",
       "      <td>5.0</td>\n",
       "      <td>works good, I used this during hurricane irma</td>\n",
       "      <td>Black</td>\n",
       "      <td>good</td>\n",
       "    </tr>\n",
       "    <tr>\n",
       "      <th>30</th>\n",
       "      <td>mohand reyyashi</td>\n",
       "      <td>2018-02-19</td>\n",
       "      <td>Verified Purchase</td>\n",
       "      <td>False</td>\n",
       "      <td>5.0</td>\n",
       "      <td>nice</td>\n",
       "      <td>Black</td>\n",
       "      <td>Five Stars</td>\n",
       "    </tr>\n",
       "  </tbody>\n",
       "</table>\n",
       "</div>"
      ],
      "text/plain": [
       "             author       date        declarative  image  rate  \\\n",
       "13         a.miller 2018-03-25  Verified Purchase  False   4.0   \n",
       "17    William Vuzzo 2018-03-18  Verified Purchase  False   5.0   \n",
       "20        Robert W. 2018-03-17  Verified Purchase  False   5.0   \n",
       "28       Hailing L. 2018-02-27  Verified Purchase  False   5.0   \n",
       "30  mohand reyyashi 2018-02-19  Verified Purchase  False   5.0   \n",
       "\n",
       "                                          review_body review_format  \\\n",
       "13                               you get what pay for         Black   \n",
       "17  These are great for work. Get the upgraded bat...         Black   \n",
       "20                                       Works great.        6 pack   \n",
       "28      works good, I used this during hurricane irma         Black   \n",
       "30                                               nice         Black   \n",
       "\n",
       "   review_title  \n",
       "13   Four Stars  \n",
       "17   Five Stars  \n",
       "20   Five Stars  \n",
       "28         good  \n",
       "30   Five Stars  "
      ]
     },
     "execution_count": 31,
     "metadata": {},
     "output_type": "execute_result"
    }
   ],
   "source": [
    "df_biname.iloc[list_index_two,:].head()"
   ]
  },
  {
   "cell_type": "code",
   "execution_count": 32,
   "metadata": {},
   "outputs": [],
   "source": [
    "# look at what one-word name user said about the product and the rate from them\n",
    "list_index_one = []\n",
    "for i in range(len(df_uniname.review_body)):\n",
    "    #n_count = \n",
    "    count = len(re.findall(r'\\w+', df_uniname.iloc[i,5]))\n",
    "    rate = df_uniname.iloc[i,4]\n",
    "    if count<10 and rate >=4:\n",
    "        list_index_one.append(i)\n",
    "    #review_length_biname.append(count)"
   ]
  },
  {
   "cell_type": "code",
   "execution_count": 33,
   "metadata": {
    "scrolled": true
   },
   "outputs": [
    {
     "data": {
      "text/html": [
       "<div>\n",
       "<style scoped>\n",
       "    .dataframe tbody tr th:only-of-type {\n",
       "        vertical-align: middle;\n",
       "    }\n",
       "\n",
       "    .dataframe tbody tr th {\n",
       "        vertical-align: top;\n",
       "    }\n",
       "\n",
       "    .dataframe thead th {\n",
       "        text-align: right;\n",
       "    }\n",
       "</style>\n",
       "<table border=\"1\" class=\"dataframe\">\n",
       "  <thead>\n",
       "    <tr style=\"text-align: right;\">\n",
       "      <th></th>\n",
       "      <th>author</th>\n",
       "      <th>date</th>\n",
       "      <th>declarative</th>\n",
       "      <th>image</th>\n",
       "      <th>rate</th>\n",
       "      <th>review_body</th>\n",
       "      <th>review_format</th>\n",
       "      <th>review_title</th>\n",
       "    </tr>\n",
       "  </thead>\n",
       "  <tbody>\n",
       "    <tr>\n",
       "      <th>2</th>\n",
       "      <td>CHENGCHEN</td>\n",
       "      <td>2018-04-02</td>\n",
       "      <td>Verified Purchase</td>\n",
       "      <td>False</td>\n",
       "      <td>5.0</td>\n",
       "      <td>These were great and worth every penny.</td>\n",
       "      <td>Black</td>\n",
       "      <td>Five Stars</td>\n",
       "    </tr>\n",
       "    <tr>\n",
       "      <th>10</th>\n",
       "      <td>Shelly</td>\n",
       "      <td>2018-03-27</td>\n",
       "      <td>Verified Purchase</td>\n",
       "      <td>False</td>\n",
       "      <td>5.0</td>\n",
       "      <td>Small and exquisite, easy to carry around.</td>\n",
       "      <td>Black</td>\n",
       "      <td>easy to carry around</td>\n",
       "    </tr>\n",
       "    <tr>\n",
       "      <th>21</th>\n",
       "      <td>mdnike</td>\n",
       "      <td>2018-03-15</td>\n",
       "      <td>Verified Purchase</td>\n",
       "      <td>False</td>\n",
       "      <td>5.0</td>\n",
       "      <td>Great product</td>\n",
       "      <td>Black</td>\n",
       "      <td>Five Stars</td>\n",
       "    </tr>\n",
       "    <tr>\n",
       "      <th>22</th>\n",
       "      <td>PRT</td>\n",
       "      <td>2018-03-13</td>\n",
       "      <td>Verified Purchase</td>\n",
       "      <td>False</td>\n",
       "      <td>5.0</td>\n",
       "      <td>GREAt, compact flashlight. Nice quality</td>\n",
       "      <td>Black</td>\n",
       "      <td>Five Stars</td>\n",
       "    </tr>\n",
       "    <tr>\n",
       "      <th>25</th>\n",
       "      <td>KBOWDRUMS</td>\n",
       "      <td>2018-03-10</td>\n",
       "      <td>Verified Purchase</td>\n",
       "      <td>False</td>\n",
       "      <td>5.0</td>\n",
       "      <td>Great little flashlights.</td>\n",
       "      <td>Black</td>\n",
       "      <td>Five Stars</td>\n",
       "    </tr>\n",
       "  </tbody>\n",
       "</table>\n",
       "</div>"
      ],
      "text/plain": [
       "       author       date        declarative  image  rate  \\\n",
       "2   CHENGCHEN 2018-04-02  Verified Purchase  False   5.0   \n",
       "10     Shelly 2018-03-27  Verified Purchase  False   5.0   \n",
       "21     mdnike 2018-03-15  Verified Purchase  False   5.0   \n",
       "22        PRT 2018-03-13  Verified Purchase  False   5.0   \n",
       "25  KBOWDRUMS 2018-03-10  Verified Purchase  False   5.0   \n",
       "\n",
       "                                   review_body review_format  \\\n",
       "2      These were great and worth every penny.         Black   \n",
       "10  Small and exquisite, easy to carry around.         Black   \n",
       "21                               Great product         Black   \n",
       "22     GREAt, compact flashlight. Nice quality         Black   \n",
       "25                   Great little flashlights.         Black   \n",
       "\n",
       "            review_title  \n",
       "2             Five Stars  \n",
       "10  easy to carry around  \n",
       "21            Five Stars  \n",
       "22            Five Stars  \n",
       "25            Five Stars  "
      ]
     },
     "execution_count": 33,
     "metadata": {},
     "output_type": "execute_result"
    }
   ],
   "source": [
    "df_uniname.iloc[list_index_one,:].head()"
   ]
  },
  {
   "cell_type": "markdown",
   "metadata": {},
   "source": [
    "## 1.3 Analyzing review and review title."
   ]
  },
  {
   "cell_type": "code",
   "execution_count": 34,
   "metadata": {},
   "outputs": [],
   "source": [
    "review_title = review_df.loc[:, 'review_title']\n",
    "review_body = review_df.loc[:, 'review_body']"
   ]
  },
  {
   "cell_type": "code",
   "execution_count": 35,
   "metadata": {},
   "outputs": [
    {
     "data": {
      "text/plain": [
       "0    small in size, good quality, bright enough. Th...\n",
       "1    The zoom does not work on any of the flashligh...\n",
       "2              These were great and worth every penny.\n",
       "3    This is a great mini flashlights! The size is ...\n",
       "4    Little cute flesh lights! Love it. Small , han...\n",
       "Name: review_body, dtype: object"
      ]
     },
     "execution_count": 35,
     "metadata": {},
     "output_type": "execute_result"
    }
   ],
   "source": [
    "review_body.head()"
   ]
  },
  {
   "cell_type": "code",
   "execution_count": 36,
   "metadata": {},
   "outputs": [],
   "source": [
    "# to see the histogram of the length of the reviews\n",
    "review_length = []\n",
    "for i in range(len(review_body)):\n",
    "    count = len(re.findall(r'\\w+', review_body.loc[i]))\n",
    "    review_length.append(count)"
   ]
  },
  {
   "cell_type": "code",
   "execution_count": 37,
   "metadata": {},
   "outputs": [
    {
     "data": {
      "image/png": "[encoded data removed]",
      "text/plain": [
       "<Figure size 432x288 with 1 Axes>"
      ]
     },
     "metadata": {},
     "output_type": "display_data"
    }
   ],
   "source": [
    "# the length of the review\n",
    "plt.hist(review_length, bins =100)\n",
    "plt.show() # most reviews are short, only few reviews are very long."
   ]
  },
  {
   "cell_type": "code",
   "execution_count": 38,
   "metadata": {},
   "outputs": [],
   "source": [
    "import spacy\n",
    "nlp = spacy.load('en')"
   ]
  },
  {
   "cell_type": "code",
   "execution_count": 39,
   "metadata": {},
   "outputs": [],
   "source": [
    "from sklearn.base import BaseEstimator, TransformerMixin"
   ]
  },
  {
   "cell_type": "code",
   "execution_count": 40,
   "metadata": {},
   "outputs": [],
   "source": [
    "class PartOfSpeechFilter(BaseEstimator, TransformerMixin):\n",
    "    # must have the same name for the attributes, must has default, and must y = None.\n",
    "    def __init__(self, pos_to_keep=('NOUN', 'PROPN', 'ADJ', 'VERB'), stop_words=None):\n",
    "        self.pos_to_keep = pos_to_keep\n",
    "        self.stop_words = stop_words\n",
    "        \n",
    "    def fit(self, X, y=None):\n",
    "        return self\n",
    "        \n",
    "    def transform(self, X):\n",
    "        preprocessed_sentences = []\n",
    "        \n",
    "        for doc in nlp.pipe(X, n_threads=8):\n",
    "            if self.stop_words is not None:\n",
    "                keep_tokens_string = ' '.join([t.lemma_ for t in doc if t.pos_ in self.pos_to_keep and t.lemma_ not in self.stop_words])\n",
    "            else:\n",
    "                keep_tokens_string = ' '.join([t.lemma_ for t in doc if t.pos_ in self.pos_to_keep])\n",
    "            preprocessed_sentences.append(keep_tokens_string)\n",
    "    \n",
    "        return preprocessed_sentences "
   ]
  },
  {
   "cell_type": "code",
   "execution_count": 41,
   "metadata": {},
   "outputs": [],
   "source": [
    "from sklearn.pipeline import Pipeline"
   ]
  },
  {
   "cell_type": "code",
   "execution_count": 42,
   "metadata": {},
   "outputs": [
    {
     "data": {
      "text/plain": [
       "Pipeline(memory=None,\n",
       "     steps=[('posf', PartOfSpeechFilter(pos_to_keep=('NOUN', 'PROPN', 'ADJ', 'VERB'),\n",
       "          stop_words=None)), ('cv', CountVectorizer(analyzer='word', binary=False, decode_error='strict',\n",
       "        dtype=<class 'numpy.int64'>, encoding='utf-8', input='content',\n",
       "        lowercase=True, max_df=0.95, max_...   strip_accents=None, token_pattern='(?u)\\\\b\\\\w\\\\w+\\\\b',\n",
       "        tokenizer=None, vocabulary=None))])"
      ]
     },
     "execution_count": 42,
     "metadata": {},
     "output_type": "execute_result"
    }
   ],
   "source": [
    "pipeline = Pipeline([('posf', PartOfSpeechFilter()),\n",
    "                     ('cv', CountVectorizer())\n",
    "                   ])\n",
    "pipeline.set_params(cv__lowercase=True,cv__max_df=0.95, cv__min_df=0.01, cv__stop_words='english')"
   ]
  },
  {
   "cell_type": "code",
   "execution_count": 43,
   "metadata": {},
   "outputs": [],
   "source": [
    "preproc_reviews = pipeline.fit_transform(review_body)\n",
    "pipe_cv = pipeline.named_steps['cv']"
   ]
  },
  {
   "cell_type": "code",
   "execution_count": 44,
   "metadata": {},
   "outputs": [
    {
     "data": {
      "text/plain": [
       "(761, 189)"
      ]
     },
     "execution_count": 44,
     "metadata": {},
     "output_type": "execute_result"
    }
   ],
   "source": [
    "preproc_reviews.shape # we have 761 reviews, which contain 189 words in total after preprocessing"
   ]
  },
  {
   "cell_type": "code",
   "execution_count": 45,
   "metadata": {},
   "outputs": [
    {
     "data": {
      "image/png": "[encoded data removed]",
      "text/plain": [
       "<Figure size 432x288 with 1 Axes>"
      ]
     },
     "metadata": {},
     "output_type": "display_data"
    },
    {
     "data": {
      "image/png": "[encoded data removed]",
      "text/plain": [
       "<Figure size 432x288 with 2 Axes>"
      ]
     },
     "metadata": {},
     "output_type": "display_data"
    }
   ],
   "source": [
    "# distribution of review length after preprocessing\n",
    "review_length = preproc_reviews.sum(axis=1)\n",
    "length = review_length.A1.tolist()\n",
    "length_df = pd.DataFrame(length)\n",
    "#plt.subplot(1,2,1)\n",
    "plt.hist(length, bins=100)\n",
    "plt.title('The histogram of the reviews\\' length after preprocessing')\n",
    "\n",
    "ax = length_df.plot(kind='hist', bins=20, density=True)\n",
    "length_df.plot(kind='kde', ax=ax, secondary_y=True, color='r')\n",
    "plt.title('The histogram with its density of reviews\\' length')\n",
    "plt.show()# the distribution of the review length is much better"
   ]
  },
  {
   "cell_type": "code",
   "execution_count": 46,
   "metadata": {},
   "outputs": [
    {
     "data": {
      "text/plain": [
       "[('flashlight', 380),\n",
       " ('light', 363),\n",
       " ('pron', 321),\n",
       " ('bright', 292),\n",
       " ('great', 229),\n",
       " ('work', 198),\n",
       " ('battery', 197),\n",
       " ('good', 179),\n",
       " ('use', 165),\n",
       " ('small', 142),\n",
       " ('little', 113),\n",
       " ('price', 103),\n",
       " ('buy', 97),\n",
       " ('mode', 75),\n",
       " ('size', 75),\n",
       " ('time', 68),\n",
       " ('turn', 62),\n",
       " ('like', 61),\n",
       " ('love', 61),\n",
       " ('nice', 61)]"
      ]
     },
     "execution_count": 46,
     "metadata": {},
     "output_type": "execute_result"
    }
   ],
   "source": [
    "# common words from the reviews\n",
    "words_sum = preproc_reviews.sum(axis=0)\n",
    "counts_per_word = list(zip(pipe_cv.get_feature_names(), words_sum.A1))\n",
    "sorted(counts_per_word, key=lambda t: t[1], reverse=True)[:20]"
   ]
  },
  {
   "cell_type": "markdown",
   "metadata": {},
   "source": [
    "- Here, we obviously need to add some words from the above list into the stop words list to eliminate the influence made by these meaningless words. In this case, we would add **[flashlight, light, pron]** into the new stop words list."
   ]
  },
  {
   "cell_type": "code",
   "execution_count": 47,
   "metadata": {},
   "outputs": [],
   "source": [
    "# extend the stop-words list\n",
    "stop_words_update = list(pipe_cv.get_stop_words())\n",
    "stop_words_update.append('pron')\n",
    "stop_words_update.append('aa')"
   ]
  },
  {
   "cell_type": "code",
   "execution_count": 48,
   "metadata": {},
   "outputs": [
    {
     "data": {
      "text/plain": [
       "Pipeline(memory=None,\n",
       "     steps=[('posf', PartOfSpeechFilter(pos_to_keep=('NOUN', 'PROPN', 'ADJ', 'VERB'),\n",
       "          stop_words=['flashlight', 'light'])), ('cv', CountVectorizer(analyzer='word', binary=False, decode_error='strict',\n",
       "        dtype=<class 'numpy.int64'>, encoding='utf-8', input='content',\n",
       "        lowercase=True...   strip_accents=None, token_pattern='(?u)\\\\b\\\\w\\\\w+\\\\b',\n",
       "        tokenizer=None, vocabulary=None))])"
      ]
     },
     "execution_count": 48,
     "metadata": {},
     "output_type": "execute_result"
    }
   ],
   "source": [
    "stop_words_list = ['flashlight', 'light']\n",
    "pipeline.set_params(posf__stop_words=stop_words_list, cv__stop_words=stop_words_update)"
   ]
  },
  {
   "cell_type": "code",
   "execution_count": 49,
   "metadata": {},
   "outputs": [],
   "source": [
    "preproc_reviews = pipeline.fit_transform(review_body)\n",
    "pipe_cv = pipeline.named_steps['cv']"
   ]
  },
  {
   "cell_type": "code",
   "execution_count": 50,
   "metadata": {},
   "outputs": [
    {
     "data": {
      "text/plain": [
       "[('bright', 292),\n",
       " ('great', 229),\n",
       " ('work', 198),\n",
       " ('battery', 197),\n",
       " ('good', 179),\n",
       " ('use', 165),\n",
       " ('small', 142),\n",
       " ('little', 113),\n",
       " ('price', 103),\n",
       " ('buy', 97),\n",
       " ('mode', 75),\n",
       " ('size', 75),\n",
       " ('time', 68),\n",
       " ('turn', 62),\n",
       " ('like', 61),\n",
       " ('love', 61),\n",
       " ('nice', 61),\n",
       " ('pocket', 61),\n",
       " ('clip', 58),\n",
       " ('need', 55)]"
      ]
     },
     "execution_count": 50,
     "metadata": {},
     "output_type": "execute_result"
    }
   ],
   "source": [
    "# the most popular words which might contain useful information in the reviews\n",
    "words_sum = preproc_reviews.sum(axis=0)\n",
    "counts_per_word = list(zip(pipe_cv.get_feature_names(), words_sum.A1))\n",
    "sorted(counts_per_word, key=lambda t: t[1], reverse=True)[:20]\n",
    "# apperantly we need to update the stopwords list\n",
    "# here I update 'aa' in the stopwords list"
   ]
  },
  {
   "cell_type": "markdown",
   "metadata": {},
   "source": [
    "### Then, we perform similar process to the review title."
   ]
  },
  {
   "cell_type": "code",
   "execution_count": 51,
   "metadata": {},
   "outputs": [],
   "source": [
    "preproc_titles = pipeline.fit_transform(review_title)\n",
    "pipe_cv = pipeline.named_steps['cv']"
   ]
  },
  {
   "cell_type": "code",
   "execution_count": 52,
   "metadata": {
    "scrolled": false
   },
   "outputs": [
    {
     "data": {
      "image/png": "[encoded data removed]",
      "text/plain": [
       "<Figure size 432x288 with 1 Axes>"
      ]
     },
     "metadata": {},
     "output_type": "display_data"
    }
   ],
   "source": [
    "# length of the review title\n",
    "review_length = preproc_titles.sum(axis=1)\n",
    "length = review_length.A1.tolist()\n",
    "length_df = pd.DataFrame(length)\n",
    "plt.hist(length, bins=100)\n",
    "plt.title('The histogram of the reviews\\' title length after preprocessing')\n",
    "plt.show() # most of the title actually contain one word which might deliver useful information."
   ]
  },
  {
   "cell_type": "code",
   "execution_count": 53,
   "metadata": {
    "scrolled": true
   },
   "outputs": [
    {
     "data": {
      "text/plain": [
       "[('star', 240),\n",
       " ('great', 111),\n",
       " ('good', 68),\n",
       " ('bright', 67),\n",
       " ('little', 43),\n",
       " ('small', 40),\n",
       " ('work', 35),\n",
       " ('price', 33),\n",
       " ('buy', 32),\n",
       " ('quality', 24),\n",
       " ('nice', 22),\n",
       " ('battery', 18),\n",
       " ('lead', 17),\n",
       " ('love', 17),\n",
       " ('size', 16),\n",
       " ('product', 15),\n",
       " ('perfect', 14),\n",
       " ('like', 13),\n",
       " ('deal', 12),\n",
       " ('expect', 11)]"
      ]
     },
     "execution_count": 53,
     "metadata": {},
     "output_type": "execute_result"
    }
   ],
   "source": [
    "title_sum = preproc_titles.sum(axis=0)\n",
    "title_counts_per_word = list(zip(pipe_cv.get_feature_names(), title_sum.A1))\n",
    "sorted(title_counts_per_word, key=lambda t: t[1], reverse=True)[:20]\n",
    "# as it can be seen, the star should be in the stop word list"
   ]
  },
  {
   "cell_type": "code",
   "execution_count": 54,
   "metadata": {},
   "outputs": [
    {
     "data": {
      "text/plain": [
       "Pipeline(memory=None,\n",
       "     steps=[('posf', PartOfSpeechFilter(pos_to_keep=('NOUN', 'PROPN', 'ADJ', 'VERB'),\n",
       "          stop_words=['flashlight', 'light'])), ('cv', CountVectorizer(analyzer='word', binary=False, decode_error='strict',\n",
       "        dtype=<class 'numpy.int64'>, encoding='utf-8', input='content',\n",
       "        lowercase=True...   strip_accents=None, token_pattern='(?u)\\\\b\\\\w\\\\w+\\\\b',\n",
       "        tokenizer=None, vocabulary=None))])"
      ]
     },
     "execution_count": 54,
     "metadata": {},
     "output_type": "execute_result"
    }
   ],
   "source": [
    "# then, we update the stop-words list to see the result\n",
    "stop_words_update.append('star')\n",
    "pipeline.set_params(posf__stop_words=stop_words_list, cv__stop_words=stop_words_update)"
   ]
  },
  {
   "cell_type": "code",
   "execution_count": 55,
   "metadata": {},
   "outputs": [],
   "source": [
    "preproc_titles = pipeline.fit_transform(review_title)\n",
    "pipe_cv = pipeline.named_steps['cv']"
   ]
  },
  {
   "cell_type": "code",
   "execution_count": 56,
   "metadata": {},
   "outputs": [
    {
     "data": {
      "text/plain": [
       "[('great', 111),\n",
       " ('good', 68),\n",
       " ('bright', 67),\n",
       " ('little', 43),\n",
       " ('small', 40),\n",
       " ('work', 35),\n",
       " ('price', 33),\n",
       " ('buy', 32),\n",
       " ('quality', 24),\n",
       " ('nice', 22),\n",
       " ('battery', 18),\n",
       " ('lead', 17),\n",
       " ('love', 17),\n",
       " ('size', 16),\n",
       " ('product', 15),\n",
       " ('perfect', 14),\n",
       " ('like', 13),\n",
       " ('deal', 12),\n",
       " ('expect', 11),\n",
       " ('value', 11),\n",
       " ('awesome', 10),\n",
       " ('handy', 10),\n",
       " ('compact', 9),\n",
       " ('flash', 9),\n",
       " ('use', 9),\n",
       " ('powerful', 8)]"
      ]
     },
     "execution_count": 56,
     "metadata": {},
     "output_type": "execute_result"
    }
   ],
   "source": [
    "title_sum = preproc_titles.sum(axis=0)\n",
    "title_counts_per_word = list(zip(pipe_cv.get_feature_names(), title_sum.A1))\n",
    "sorted(title_counts_per_word, key=lambda t: t[1], reverse=True)[:]\n",
    "# these are the important words in the title"
   ]
  },
  {
   "cell_type": "markdown",
   "metadata": {},
   "source": [
    "### Introducing a new variable, *fake_review*.\n",
    "- After analysis, I decide to add a new variable as **possible_fake_review**.\n",
    "- The variable will be ***1(positive)*** if the following conditions are satisfied at the same time, otherwise, it will be ***0(negative)***:\n",
    "    1. The author of the review is **two-word name**.\n",
    "    2. The length of the review is equal to **1**.\n",
    "    3. The review title is **'Five Stars'**.\n",
    "    4. The rate is **5**."
   ]
  },
  {
   "cell_type": "code",
   "execution_count": 57,
   "metadata": {},
   "outputs": [],
   "source": [
    "for i in range(len(review_df.review_body)):\n",
    "    author = review_df.loc[i, 'author'].split()\n",
    "    rate = review_df.loc[i, 'rate']\n",
    "    title = review_df.loc[i, 'review_title']\n",
    "    body = review_df.loc[i, 'review_body'].split()\n",
    "    if len(author) ==2 and len(body) ==1 and title=='Five Stars' and rate == 5.0:\n",
    "        review_df.loc[i, 'fake_review'] = 1\n",
    "    else:\n",
    "        review_df.loc[i, 'fake_review'] = 0"
   ]
  },
  {
   "cell_type": "code",
   "execution_count": 58,
   "metadata": {},
   "outputs": [
    {
     "data": {
      "image/png": "[encoded data removed]",
      "text/plain": [
       "<Figure size 432x288 with 1 Axes>"
      ]
     },
     "metadata": {},
     "output_type": "display_data"
    }
   ],
   "source": [
    "# see the histogram of the possible fake review.\n",
    "plt.hist(review_df.fake_review)\n",
    "plt.show()"
   ]
  },
  {
   "cell_type": "markdown",
   "metadata": {},
   "source": [
    "## 1.4 EDA conclusion:\n",
    "- Most of the rates are high point (i.e. 4 and 5).\n",
    "- If there is image or video contained in the review, the rates are more possible to be a high point.\n",
    "- Some fake reviews are existing in the dataset, and a new feature is created by combining several features as judgements.\n",
    "- The length of the review are mainly between 1 word to 30 words with a short tail in the distribution.\n",
    "- The review title often contains strong sentiment.\n",
    "- Based on the above EDA, I decide to choose the following features to predict rating:\n",
    "    - **image:** an image or video contained in the review or not.\n",
    "    - **review format:** i.e. black, 4-pack, 6-pack.\n",
    "    - **review title**\n",
    "    - **review:** review body.\n",
    "    - **fake review:** the new variable created through a series of conditions."
   ]
  },
  {
   "cell_type": "markdown",
   "metadata": {},
   "source": [
    "# 2. Preprocessing method:\n",
    "- Feature Extraction from text: text as a bag-of-words, tf-idf"
   ]
  },
  {
   "cell_type": "code",
   "execution_count": 59,
   "metadata": {},
   "outputs": [],
   "source": [
    "from sklearn.model_selection import train_test_split"
   ]
  },
  {
   "cell_type": "code",
   "execution_count": 60,
   "metadata": {},
   "outputs": [
    {
     "name": "stdout",
     "output_type": "stream",
     "text": [
      "608 train + 153 test\n"
     ]
    }
   ],
   "source": [
    "# split the data into training and test\n",
    "training, test = train_test_split(review_df, test_size=0.2, random_state=233)\n",
    "print(len(training), \"train +\", len(test), \"test\")"
   ]
  },
  {
   "cell_type": "code",
   "execution_count": 61,
   "metadata": {
    "scrolled": true
   },
   "outputs": [
    {
     "data": {
      "text/html": [
       "<div>\n",
       "<style scoped>\n",
       "    .dataframe tbody tr th:only-of-type {\n",
       "        vertical-align: middle;\n",
       "    }\n",
       "\n",
       "    .dataframe tbody tr th {\n",
       "        vertical-align: top;\n",
       "    }\n",
       "\n",
       "    .dataframe thead th {\n",
       "        text-align: right;\n",
       "    }\n",
       "</style>\n",
       "<table border=\"1\" class=\"dataframe\">\n",
       "  <thead>\n",
       "    <tr style=\"text-align: right;\">\n",
       "      <th></th>\n",
       "      <th>author</th>\n",
       "      <th>date</th>\n",
       "      <th>declarative</th>\n",
       "      <th>image</th>\n",
       "      <th>rate</th>\n",
       "      <th>review_body</th>\n",
       "      <th>review_format</th>\n",
       "      <th>review_title</th>\n",
       "      <th>fake_review</th>\n",
       "    </tr>\n",
       "  </thead>\n",
       "  <tbody>\n",
       "    <tr>\n",
       "      <th>0</th>\n",
       "      <td>philip sinson</td>\n",
       "      <td>2017-09-25</td>\n",
       "      <td>Verified Purchase</td>\n",
       "      <td>False</td>\n",
       "      <td>1.0</td>\n",
       "      <td>does not work</td>\n",
       "      <td>Black</td>\n",
       "      <td>One Star</td>\n",
       "      <td>0.0</td>\n",
       "    </tr>\n",
       "    <tr>\n",
       "      <th>1</th>\n",
       "      <td>Bonecat</td>\n",
       "      <td>2017-07-17</td>\n",
       "      <td>Verified Purchase</td>\n",
       "      <td>False</td>\n",
       "      <td>4.0</td>\n",
       "      <td>The light is super Bright for its size. I am n...</td>\n",
       "      <td>Black</td>\n",
       "      <td>Rockbirds LED Flashlight</td>\n",
       "      <td>0.0</td>\n",
       "    </tr>\n",
       "    <tr>\n",
       "      <th>2</th>\n",
       "      <td>Rhonda</td>\n",
       "      <td>2017-06-03</td>\n",
       "      <td>Verified Purchase</td>\n",
       "      <td>False</td>\n",
       "      <td>5.0</td>\n",
       "      <td>These are tiny, but mighty. I can keep one in ...</td>\n",
       "      <td>Black</td>\n",
       "      <td>Bright!</td>\n",
       "      <td>0.0</td>\n",
       "    </tr>\n",
       "    <tr>\n",
       "      <th>3</th>\n",
       "      <td>CJ</td>\n",
       "      <td>2017-12-31</td>\n",
       "      <td>Verified Purchase</td>\n",
       "      <td>False</td>\n",
       "      <td>5.0</td>\n",
       "      <td>These are good to have everywhere, especially ...</td>\n",
       "      <td>Black</td>\n",
       "      <td>Handy with the clip on side</td>\n",
       "      <td>0.0</td>\n",
       "    </tr>\n",
       "    <tr>\n",
       "      <th>4</th>\n",
       "      <td>Edwin Y. Zhao</td>\n",
       "      <td>2017-03-23</td>\n",
       "      <td>Verified Purchase</td>\n",
       "      <td>False</td>\n",
       "      <td>5.0</td>\n",
       "      <td>Great quality for the price!</td>\n",
       "      <td>Black</td>\n",
       "      <td>Five Stars</td>\n",
       "      <td>0.0</td>\n",
       "    </tr>\n",
       "  </tbody>\n",
       "</table>\n",
       "</div>"
      ],
      "text/plain": [
       "          author       date        declarative  image  rate  \\\n",
       "0  philip sinson 2017-09-25  Verified Purchase  False   1.0   \n",
       "1        Bonecat 2017-07-17  Verified Purchase  False   4.0   \n",
       "2         Rhonda 2017-06-03  Verified Purchase  False   5.0   \n",
       "3             CJ 2017-12-31  Verified Purchase  False   5.0   \n",
       "4  Edwin Y. Zhao 2017-03-23  Verified Purchase  False   5.0   \n",
       "\n",
       "                                         review_body review_format  \\\n",
       "0                                      does not work         Black   \n",
       "1  The light is super Bright for its size. I am n...         Black   \n",
       "2  These are tiny, but mighty. I can keep one in ...         Black   \n",
       "3  These are good to have everywhere, especially ...         Black   \n",
       "4                       Great quality for the price!         Black   \n",
       "\n",
       "                  review_title  fake_review  \n",
       "0                     One Star          0.0  \n",
       "1     Rockbirds LED Flashlight          0.0  \n",
       "2                      Bright!          0.0  \n",
       "3  Handy with the clip on side          0.0  \n",
       "4                   Five Stars          0.0  "
      ]
     },
     "execution_count": 61,
     "metadata": {},
     "output_type": "execute_result"
    }
   ],
   "source": [
    "# reindex\n",
    "training.index = range(608)\n",
    "test.index = range(153)\n",
    "training.head()"
   ]
  },
  {
   "cell_type": "markdown",
   "metadata": {},
   "source": [
    "## 2.1 Prepare X and y with TF-IDF and without TF-IDF\n",
    "- The process is a little bit complicated\n",
    "- The final data used for training and testing model is saved as:"
   ]
  },
  {
   "cell_type": "markdown",
   "metadata": {},
   "source": [
    "|                |       | Train  |            | Test        |\n",
    "| ---------------|-----------|----------|----------------|-----------------|\n",
    "| Without TF-IDF |   **X**   |   **y**  |    **X_test**  | **y_test**      |\n",
    "|  With TF-IDF   |**X_tfidf**|**y_tfidf**|**X_tfidf_test**| **y_tfidf_test**|"
   ]
  },
  {
   "cell_type": "code",
   "execution_count": 62,
   "metadata": {},
   "outputs": [],
   "source": [
    "pipeline = Pipeline([('posf', PartOfSpeechFilter()),\n",
    "                     ('cv', CountVectorizer())\n",
    "                   ])\n",
    "pipeline.set_params(cv__lowercase=True,cv__max_df=0.97, cv__min_df=0.01, cv__stop_words='english')\n",
    "pipeline.set_params(posf__stop_words=stop_words_list, cv__stop_words=stop_words_update)\n",
    "pipe_cv = pipeline.named_steps['cv']"
   ]
  },
  {
   "cell_type": "code",
   "execution_count": 63,
   "metadata": {},
   "outputs": [],
   "source": [
    "# features: image, review_body, review_format, review_title, fake_review\n",
    "image = training.loc[:, 'image']\n",
    "review_format = training.loc[:,'review_format']\n",
    "title_pre = training.loc[:,'review_title']\n",
    "title = pipeline.fit_transform(title_pre)\n",
    "title_feature_name = pipe_cv.get_feature_names()\n",
    "body_pre = training.loc[:,'review_body']\n",
    "body = pipeline.fit_transform(body_pre)\n",
    "body_feature_name = pipe_cv.get_feature_names()\n",
    "fake = training.loc[:, 'fake_review']\n",
    "y = training.loc[:, 'rate']"
   ]
  },
  {
   "cell_type": "code",
   "execution_count": 64,
   "metadata": {},
   "outputs": [],
   "source": [
    "def to_array_variabel(df, shape = (100,100)):\n",
    "    to_array = pd.factorize(df)[0]\n",
    "    #to_array = pd.DataFrame.as_matrix(df)\n",
    "    var_array = np.reshape(to_array, shape)\n",
    "    return var_array"
   ]
  },
  {
   "cell_type": "code",
   "execution_count": 65,
   "metadata": {},
   "outputs": [
    {
     "data": {
      "text/plain": [
       "(608, 206)"
      ]
     },
     "execution_count": 65,
     "metadata": {},
     "output_type": "execute_result"
    }
   ],
   "source": [
    "image_array = to_array_variabel(image, (608,1))\n",
    "format_array = to_array_variabel(review_format, (608,1))\n",
    "fake_array = to_array_variabel(fake, (608,1))\n",
    "# the order of the variables are image, formate, body, title, fake\n",
    "X = np.hstack((image_array, format_array, body.toarray(), title.toarray(), fake_array))\n",
    "X.shape"
   ]
  },
  {
   "cell_type": "code",
   "execution_count": 66,
   "metadata": {},
   "outputs": [],
   "source": [
    "variable_name = ['image_or_not', 'format_']+body_feature_name+title_feature_name+['fake_review']+['y']"
   ]
  },
  {
   "cell_type": "code",
   "execution_count": 67,
   "metadata": {},
   "outputs": [
    {
     "data": {
      "text/html": [
       "<div>\n",
       "<style scoped>\n",
       "    .dataframe tbody tr th:only-of-type {\n",
       "        vertical-align: middle;\n",
       "    }\n",
       "\n",
       "    .dataframe tbody tr th {\n",
       "        vertical-align: top;\n",
       "    }\n",
       "\n",
       "    .dataframe thead th {\n",
       "        text-align: right;\n",
       "    }\n",
       "</style>\n",
       "<table border=\"1\" class=\"dataframe\">\n",
       "  <thead>\n",
       "    <tr style=\"text-align: right;\">\n",
       "      <th></th>\n",
       "      <th>image_or_not</th>\n",
       "      <th>format_</th>\n",
       "      <th>adjust</th>\n",
       "      <th>adjustable</th>\n",
       "      <th>amazing</th>\n",
       "      <th>awesome</th>\n",
       "      <th>backpack</th>\n",
       "      <th>bad</th>\n",
       "      <th>battery</th>\n",
       "      <th>beam</th>\n",
       "      <th>...</th>\n",
       "      <th>powerful</th>\n",
       "      <th>price</th>\n",
       "      <th>product</th>\n",
       "      <th>quality</th>\n",
       "      <th>size</th>\n",
       "      <th>small</th>\n",
       "      <th>value</th>\n",
       "      <th>work</th>\n",
       "      <th>fake_review</th>\n",
       "      <th>y</th>\n",
       "    </tr>\n",
       "  </thead>\n",
       "  <tbody>\n",
       "    <tr>\n",
       "      <th>0</th>\n",
       "      <td>0</td>\n",
       "      <td>0</td>\n",
       "      <td>0</td>\n",
       "      <td>0</td>\n",
       "      <td>0</td>\n",
       "      <td>0</td>\n",
       "      <td>0</td>\n",
       "      <td>0</td>\n",
       "      <td>0</td>\n",
       "      <td>0</td>\n",
       "      <td>...</td>\n",
       "      <td>0</td>\n",
       "      <td>0</td>\n",
       "      <td>0</td>\n",
       "      <td>0</td>\n",
       "      <td>0</td>\n",
       "      <td>0</td>\n",
       "      <td>0</td>\n",
       "      <td>0</td>\n",
       "      <td>0</td>\n",
       "      <td>1.0</td>\n",
       "    </tr>\n",
       "    <tr>\n",
       "      <th>1</th>\n",
       "      <td>0</td>\n",
       "      <td>0</td>\n",
       "      <td>0</td>\n",
       "      <td>0</td>\n",
       "      <td>0</td>\n",
       "      <td>0</td>\n",
       "      <td>0</td>\n",
       "      <td>0</td>\n",
       "      <td>2</td>\n",
       "      <td>0</td>\n",
       "      <td>...</td>\n",
       "      <td>0</td>\n",
       "      <td>0</td>\n",
       "      <td>0</td>\n",
       "      <td>0</td>\n",
       "      <td>0</td>\n",
       "      <td>0</td>\n",
       "      <td>0</td>\n",
       "      <td>0</td>\n",
       "      <td>0</td>\n",
       "      <td>4.0</td>\n",
       "    </tr>\n",
       "    <tr>\n",
       "      <th>2</th>\n",
       "      <td>0</td>\n",
       "      <td>0</td>\n",
       "      <td>0</td>\n",
       "      <td>0</td>\n",
       "      <td>0</td>\n",
       "      <td>0</td>\n",
       "      <td>0</td>\n",
       "      <td>0</td>\n",
       "      <td>0</td>\n",
       "      <td>0</td>\n",
       "      <td>...</td>\n",
       "      <td>0</td>\n",
       "      <td>0</td>\n",
       "      <td>0</td>\n",
       "      <td>0</td>\n",
       "      <td>0</td>\n",
       "      <td>0</td>\n",
       "      <td>0</td>\n",
       "      <td>0</td>\n",
       "      <td>0</td>\n",
       "      <td>5.0</td>\n",
       "    </tr>\n",
       "    <tr>\n",
       "      <th>3</th>\n",
       "      <td>0</td>\n",
       "      <td>0</td>\n",
       "      <td>0</td>\n",
       "      <td>0</td>\n",
       "      <td>0</td>\n",
       "      <td>0</td>\n",
       "      <td>0</td>\n",
       "      <td>0</td>\n",
       "      <td>0</td>\n",
       "      <td>0</td>\n",
       "      <td>...</td>\n",
       "      <td>0</td>\n",
       "      <td>0</td>\n",
       "      <td>0</td>\n",
       "      <td>0</td>\n",
       "      <td>0</td>\n",
       "      <td>0</td>\n",
       "      <td>0</td>\n",
       "      <td>0</td>\n",
       "      <td>0</td>\n",
       "      <td>5.0</td>\n",
       "    </tr>\n",
       "    <tr>\n",
       "      <th>4</th>\n",
       "      <td>0</td>\n",
       "      <td>0</td>\n",
       "      <td>0</td>\n",
       "      <td>0</td>\n",
       "      <td>0</td>\n",
       "      <td>0</td>\n",
       "      <td>0</td>\n",
       "      <td>0</td>\n",
       "      <td>0</td>\n",
       "      <td>0</td>\n",
       "      <td>...</td>\n",
       "      <td>0</td>\n",
       "      <td>0</td>\n",
       "      <td>0</td>\n",
       "      <td>0</td>\n",
       "      <td>0</td>\n",
       "      <td>0</td>\n",
       "      <td>0</td>\n",
       "      <td>0</td>\n",
       "      <td>0</td>\n",
       "      <td>5.0</td>\n",
       "    </tr>\n",
       "    <tr>\n",
       "      <th>5</th>\n",
       "      <td>0</td>\n",
       "      <td>0</td>\n",
       "      <td>0</td>\n",
       "      <td>0</td>\n",
       "      <td>0</td>\n",
       "      <td>0</td>\n",
       "      <td>0</td>\n",
       "      <td>1</td>\n",
       "      <td>0</td>\n",
       "      <td>0</td>\n",
       "      <td>...</td>\n",
       "      <td>0</td>\n",
       "      <td>1</td>\n",
       "      <td>0</td>\n",
       "      <td>0</td>\n",
       "      <td>0</td>\n",
       "      <td>0</td>\n",
       "      <td>0</td>\n",
       "      <td>0</td>\n",
       "      <td>0</td>\n",
       "      <td>5.0</td>\n",
       "    </tr>\n",
       "    <tr>\n",
       "      <th>6</th>\n",
       "      <td>0</td>\n",
       "      <td>0</td>\n",
       "      <td>0</td>\n",
       "      <td>0</td>\n",
       "      <td>0</td>\n",
       "      <td>0</td>\n",
       "      <td>0</td>\n",
       "      <td>0</td>\n",
       "      <td>0</td>\n",
       "      <td>0</td>\n",
       "      <td>...</td>\n",
       "      <td>0</td>\n",
       "      <td>0</td>\n",
       "      <td>0</td>\n",
       "      <td>0</td>\n",
       "      <td>0</td>\n",
       "      <td>0</td>\n",
       "      <td>0</td>\n",
       "      <td>0</td>\n",
       "      <td>0</td>\n",
       "      <td>4.0</td>\n",
       "    </tr>\n",
       "    <tr>\n",
       "      <th>7</th>\n",
       "      <td>0</td>\n",
       "      <td>0</td>\n",
       "      <td>0</td>\n",
       "      <td>0</td>\n",
       "      <td>0</td>\n",
       "      <td>0</td>\n",
       "      <td>0</td>\n",
       "      <td>0</td>\n",
       "      <td>0</td>\n",
       "      <td>0</td>\n",
       "      <td>...</td>\n",
       "      <td>0</td>\n",
       "      <td>0</td>\n",
       "      <td>0</td>\n",
       "      <td>0</td>\n",
       "      <td>0</td>\n",
       "      <td>0</td>\n",
       "      <td>0</td>\n",
       "      <td>0</td>\n",
       "      <td>0</td>\n",
       "      <td>4.0</td>\n",
       "    </tr>\n",
       "    <tr>\n",
       "      <th>8</th>\n",
       "      <td>0</td>\n",
       "      <td>0</td>\n",
       "      <td>0</td>\n",
       "      <td>0</td>\n",
       "      <td>0</td>\n",
       "      <td>0</td>\n",
       "      <td>0</td>\n",
       "      <td>0</td>\n",
       "      <td>0</td>\n",
       "      <td>0</td>\n",
       "      <td>...</td>\n",
       "      <td>0</td>\n",
       "      <td>0</td>\n",
       "      <td>0</td>\n",
       "      <td>0</td>\n",
       "      <td>0</td>\n",
       "      <td>0</td>\n",
       "      <td>0</td>\n",
       "      <td>0</td>\n",
       "      <td>0</td>\n",
       "      <td>4.0</td>\n",
       "    </tr>\n",
       "    <tr>\n",
       "      <th>9</th>\n",
       "      <td>0</td>\n",
       "      <td>0</td>\n",
       "      <td>0</td>\n",
       "      <td>0</td>\n",
       "      <td>0</td>\n",
       "      <td>0</td>\n",
       "      <td>0</td>\n",
       "      <td>0</td>\n",
       "      <td>0</td>\n",
       "      <td>0</td>\n",
       "      <td>...</td>\n",
       "      <td>0</td>\n",
       "      <td>0</td>\n",
       "      <td>0</td>\n",
       "      <td>0</td>\n",
       "      <td>0</td>\n",
       "      <td>0</td>\n",
       "      <td>0</td>\n",
       "      <td>0</td>\n",
       "      <td>0</td>\n",
       "      <td>1.0</td>\n",
       "    </tr>\n",
       "  </tbody>\n",
       "</table>\n",
       "<p>10 rows × 207 columns</p>\n",
       "</div>"
      ],
      "text/plain": [
       "   image_or_not  format_  adjust  adjustable  amazing  awesome  backpack  bad  \\\n",
       "0             0        0       0           0        0        0         0    0   \n",
       "1             0        0       0           0        0        0         0    0   \n",
       "2             0        0       0           0        0        0         0    0   \n",
       "3             0        0       0           0        0        0         0    0   \n",
       "4             0        0       0           0        0        0         0    0   \n",
       "5             0        0       0           0        0        0         0    1   \n",
       "6             0        0       0           0        0        0         0    0   \n",
       "7             0        0       0           0        0        0         0    0   \n",
       "8             0        0       0           0        0        0         0    0   \n",
       "9             0        0       0           0        0        0         0    0   \n",
       "\n",
       "   battery  beam ...   powerful  price  product  quality  size  small  value  \\\n",
       "0        0     0 ...          0      0        0        0     0      0      0   \n",
       "1        2     0 ...          0      0        0        0     0      0      0   \n",
       "2        0     0 ...          0      0        0        0     0      0      0   \n",
       "3        0     0 ...          0      0        0        0     0      0      0   \n",
       "4        0     0 ...          0      0        0        0     0      0      0   \n",
       "5        0     0 ...          0      1        0        0     0      0      0   \n",
       "6        0     0 ...          0      0        0        0     0      0      0   \n",
       "7        0     0 ...          0      0        0        0     0      0      0   \n",
       "8        0     0 ...          0      0        0        0     0      0      0   \n",
       "9        0     0 ...          0      0        0        0     0      0      0   \n",
       "\n",
       "   work  fake_review    y  \n",
       "0     0            0  1.0  \n",
       "1     0            0  4.0  \n",
       "2     0            0  5.0  \n",
       "3     0            0  5.0  \n",
       "4     0            0  5.0  \n",
       "5     0            0  5.0  \n",
       "6     0            0  4.0  \n",
       "7     0            0  4.0  \n",
       "8     0            0  4.0  \n",
       "9     0            0  1.0  \n",
       "\n",
       "[10 rows x 207 columns]"
      ]
     },
     "execution_count": 67,
     "metadata": {},
     "output_type": "execute_result"
    }
   ],
   "source": [
    "df_CV = pd.DataFrame(X)\n",
    "df_CV['y'] = y\n",
    "df_CV.columns = variable_name\n",
    "df_CV.head(10) # training set without tf-id"
   ]
  },
  {
   "cell_type": "code",
   "execution_count": 68,
   "metadata": {},
   "outputs": [],
   "source": [
    "image = test.loc[:, 'image']\n",
    "review_format = test.loc[:,'review_format']\n",
    "title_pre = training.loc[:,'review_title']\n",
    "title = pipeline.fit_transform(title_pre)\n",
    "title_pre_test = test.loc[:,'review_title']\n",
    "title = pipeline.transform(title_pre_test)\n",
    "body_pre_test = training.loc[:,'review_body']\n",
    "body = pipeline.fit_transform(body_pre_test)\n",
    "body_test_pre = test.loc[:,'review_body']\n",
    "body = pipeline.transform(body_test_pre)\n",
    "fake = test.loc[:, 'fake_review']\n",
    "y_test = test.loc[:, 'rate']"
   ]
  },
  {
   "cell_type": "code",
   "execution_count": 69,
   "metadata": {},
   "outputs": [],
   "source": [
    "image_array = to_array_variabel(image, (153,1))\n",
    "format_array = to_array_variabel(review_format, (153,1))\n",
    "fake_array = to_array_variabel(fake, (153,1))\n",
    "# the order of the variables are image, formate, body, title, fake\n",
    "X_test = np.hstack((image_array, format_array, body.toarray(), title.toarray(), fake_array))"
   ]
  },
  {
   "cell_type": "code",
   "execution_count": 70,
   "metadata": {},
   "outputs": [
    {
     "data": {
      "text/html": [
       "<div>\n",
       "<style scoped>\n",
       "    .dataframe tbody tr th:only-of-type {\n",
       "        vertical-align: middle;\n",
       "    }\n",
       "\n",
       "    .dataframe tbody tr th {\n",
       "        vertical-align: top;\n",
       "    }\n",
       "\n",
       "    .dataframe thead th {\n",
       "        text-align: right;\n",
       "    }\n",
       "</style>\n",
       "<table border=\"1\" class=\"dataframe\">\n",
       "  <thead>\n",
       "    <tr style=\"text-align: right;\">\n",
       "      <th></th>\n",
       "      <th>image_or_not</th>\n",
       "      <th>format_</th>\n",
       "      <th>adjust</th>\n",
       "      <th>adjustable</th>\n",
       "      <th>amazing</th>\n",
       "      <th>awesome</th>\n",
       "      <th>backpack</th>\n",
       "      <th>bad</th>\n",
       "      <th>battery</th>\n",
       "      <th>beam</th>\n",
       "      <th>...</th>\n",
       "      <th>powerful</th>\n",
       "      <th>price</th>\n",
       "      <th>product</th>\n",
       "      <th>quality</th>\n",
       "      <th>size</th>\n",
       "      <th>small</th>\n",
       "      <th>value</th>\n",
       "      <th>work</th>\n",
       "      <th>fake_review</th>\n",
       "      <th>y</th>\n",
       "    </tr>\n",
       "  </thead>\n",
       "  <tbody>\n",
       "    <tr>\n",
       "      <th>0</th>\n",
       "      <td>0</td>\n",
       "      <td>0</td>\n",
       "      <td>0</td>\n",
       "      <td>0</td>\n",
       "      <td>0</td>\n",
       "      <td>0</td>\n",
       "      <td>0</td>\n",
       "      <td>0</td>\n",
       "      <td>0</td>\n",
       "      <td>0</td>\n",
       "      <td>...</td>\n",
       "      <td>0</td>\n",
       "      <td>0</td>\n",
       "      <td>0</td>\n",
       "      <td>0</td>\n",
       "      <td>0</td>\n",
       "      <td>0</td>\n",
       "      <td>1</td>\n",
       "      <td>0</td>\n",
       "      <td>0</td>\n",
       "      <td>5.0</td>\n",
       "    </tr>\n",
       "    <tr>\n",
       "      <th>1</th>\n",
       "      <td>0</td>\n",
       "      <td>0</td>\n",
       "      <td>0</td>\n",
       "      <td>0</td>\n",
       "      <td>0</td>\n",
       "      <td>0</td>\n",
       "      <td>0</td>\n",
       "      <td>0</td>\n",
       "      <td>0</td>\n",
       "      <td>0</td>\n",
       "      <td>...</td>\n",
       "      <td>0</td>\n",
       "      <td>0</td>\n",
       "      <td>0</td>\n",
       "      <td>0</td>\n",
       "      <td>0</td>\n",
       "      <td>0</td>\n",
       "      <td>0</td>\n",
       "      <td>0</td>\n",
       "      <td>0</td>\n",
       "      <td>5.0</td>\n",
       "    </tr>\n",
       "    <tr>\n",
       "      <th>2</th>\n",
       "      <td>0</td>\n",
       "      <td>0</td>\n",
       "      <td>0</td>\n",
       "      <td>0</td>\n",
       "      <td>0</td>\n",
       "      <td>0</td>\n",
       "      <td>0</td>\n",
       "      <td>0</td>\n",
       "      <td>0</td>\n",
       "      <td>0</td>\n",
       "      <td>...</td>\n",
       "      <td>0</td>\n",
       "      <td>0</td>\n",
       "      <td>0</td>\n",
       "      <td>0</td>\n",
       "      <td>0</td>\n",
       "      <td>0</td>\n",
       "      <td>0</td>\n",
       "      <td>0</td>\n",
       "      <td>0</td>\n",
       "      <td>5.0</td>\n",
       "    </tr>\n",
       "    <tr>\n",
       "      <th>3</th>\n",
       "      <td>0</td>\n",
       "      <td>0</td>\n",
       "      <td>0</td>\n",
       "      <td>0</td>\n",
       "      <td>0</td>\n",
       "      <td>0</td>\n",
       "      <td>0</td>\n",
       "      <td>0</td>\n",
       "      <td>1</td>\n",
       "      <td>0</td>\n",
       "      <td>...</td>\n",
       "      <td>0</td>\n",
       "      <td>0</td>\n",
       "      <td>0</td>\n",
       "      <td>0</td>\n",
       "      <td>0</td>\n",
       "      <td>1</td>\n",
       "      <td>0</td>\n",
       "      <td>0</td>\n",
       "      <td>0</td>\n",
       "      <td>5.0</td>\n",
       "    </tr>\n",
       "    <tr>\n",
       "      <th>4</th>\n",
       "      <td>0</td>\n",
       "      <td>0</td>\n",
       "      <td>0</td>\n",
       "      <td>0</td>\n",
       "      <td>0</td>\n",
       "      <td>0</td>\n",
       "      <td>0</td>\n",
       "      <td>0</td>\n",
       "      <td>0</td>\n",
       "      <td>0</td>\n",
       "      <td>...</td>\n",
       "      <td>0</td>\n",
       "      <td>0</td>\n",
       "      <td>0</td>\n",
       "      <td>0</td>\n",
       "      <td>0</td>\n",
       "      <td>0</td>\n",
       "      <td>0</td>\n",
       "      <td>0</td>\n",
       "      <td>0</td>\n",
       "      <td>5.0</td>\n",
       "    </tr>\n",
       "    <tr>\n",
       "      <th>5</th>\n",
       "      <td>0</td>\n",
       "      <td>0</td>\n",
       "      <td>0</td>\n",
       "      <td>0</td>\n",
       "      <td>0</td>\n",
       "      <td>0</td>\n",
       "      <td>0</td>\n",
       "      <td>0</td>\n",
       "      <td>0</td>\n",
       "      <td>0</td>\n",
       "      <td>...</td>\n",
       "      <td>0</td>\n",
       "      <td>0</td>\n",
       "      <td>0</td>\n",
       "      <td>0</td>\n",
       "      <td>0</td>\n",
       "      <td>0</td>\n",
       "      <td>0</td>\n",
       "      <td>0</td>\n",
       "      <td>0</td>\n",
       "      <td>4.0</td>\n",
       "    </tr>\n",
       "    <tr>\n",
       "      <th>6</th>\n",
       "      <td>0</td>\n",
       "      <td>0</td>\n",
       "      <td>0</td>\n",
       "      <td>0</td>\n",
       "      <td>0</td>\n",
       "      <td>0</td>\n",
       "      <td>0</td>\n",
       "      <td>0</td>\n",
       "      <td>2</td>\n",
       "      <td>0</td>\n",
       "      <td>...</td>\n",
       "      <td>0</td>\n",
       "      <td>0</td>\n",
       "      <td>0</td>\n",
       "      <td>0</td>\n",
       "      <td>0</td>\n",
       "      <td>0</td>\n",
       "      <td>0</td>\n",
       "      <td>1</td>\n",
       "      <td>0</td>\n",
       "      <td>5.0</td>\n",
       "    </tr>\n",
       "    <tr>\n",
       "      <th>7</th>\n",
       "      <td>0</td>\n",
       "      <td>1</td>\n",
       "      <td>0</td>\n",
       "      <td>0</td>\n",
       "      <td>0</td>\n",
       "      <td>0</td>\n",
       "      <td>0</td>\n",
       "      <td>0</td>\n",
       "      <td>0</td>\n",
       "      <td>0</td>\n",
       "      <td>...</td>\n",
       "      <td>0</td>\n",
       "      <td>0</td>\n",
       "      <td>0</td>\n",
       "      <td>0</td>\n",
       "      <td>0</td>\n",
       "      <td>0</td>\n",
       "      <td>0</td>\n",
       "      <td>0</td>\n",
       "      <td>0</td>\n",
       "      <td>4.0</td>\n",
       "    </tr>\n",
       "    <tr>\n",
       "      <th>8</th>\n",
       "      <td>0</td>\n",
       "      <td>0</td>\n",
       "      <td>0</td>\n",
       "      <td>0</td>\n",
       "      <td>0</td>\n",
       "      <td>0</td>\n",
       "      <td>0</td>\n",
       "      <td>0</td>\n",
       "      <td>0</td>\n",
       "      <td>0</td>\n",
       "      <td>...</td>\n",
       "      <td>0</td>\n",
       "      <td>0</td>\n",
       "      <td>0</td>\n",
       "      <td>0</td>\n",
       "      <td>0</td>\n",
       "      <td>0</td>\n",
       "      <td>1</td>\n",
       "      <td>0</td>\n",
       "      <td>0</td>\n",
       "      <td>4.0</td>\n",
       "    </tr>\n",
       "    <tr>\n",
       "      <th>9</th>\n",
       "      <td>0</td>\n",
       "      <td>0</td>\n",
       "      <td>0</td>\n",
       "      <td>0</td>\n",
       "      <td>0</td>\n",
       "      <td>0</td>\n",
       "      <td>0</td>\n",
       "      <td>0</td>\n",
       "      <td>0</td>\n",
       "      <td>0</td>\n",
       "      <td>...</td>\n",
       "      <td>0</td>\n",
       "      <td>0</td>\n",
       "      <td>0</td>\n",
       "      <td>0</td>\n",
       "      <td>0</td>\n",
       "      <td>0</td>\n",
       "      <td>0</td>\n",
       "      <td>0</td>\n",
       "      <td>0</td>\n",
       "      <td>5.0</td>\n",
       "    </tr>\n",
       "  </tbody>\n",
       "</table>\n",
       "<p>10 rows × 207 columns</p>\n",
       "</div>"
      ],
      "text/plain": [
       "   image_or_not  format_  adjust  adjustable  amazing  awesome  backpack  bad  \\\n",
       "0             0        0       0           0        0        0         0    0   \n",
       "1             0        0       0           0        0        0         0    0   \n",
       "2             0        0       0           0        0        0         0    0   \n",
       "3             0        0       0           0        0        0         0    0   \n",
       "4             0        0       0           0        0        0         0    0   \n",
       "5             0        0       0           0        0        0         0    0   \n",
       "6             0        0       0           0        0        0         0    0   \n",
       "7             0        1       0           0        0        0         0    0   \n",
       "8             0        0       0           0        0        0         0    0   \n",
       "9             0        0       0           0        0        0         0    0   \n",
       "\n",
       "   battery  beam ...   powerful  price  product  quality  size  small  value  \\\n",
       "0        0     0 ...          0      0        0        0     0      0      1   \n",
       "1        0     0 ...          0      0        0        0     0      0      0   \n",
       "2        0     0 ...          0      0        0        0     0      0      0   \n",
       "3        1     0 ...          0      0        0        0     0      1      0   \n",
       "4        0     0 ...          0      0        0        0     0      0      0   \n",
       "5        0     0 ...          0      0        0        0     0      0      0   \n",
       "6        2     0 ...          0      0        0        0     0      0      0   \n",
       "7        0     0 ...          0      0        0        0     0      0      0   \n",
       "8        0     0 ...          0      0        0        0     0      0      1   \n",
       "9        0     0 ...          0      0        0        0     0      0      0   \n",
       "\n",
       "   work  fake_review    y  \n",
       "0     0            0  5.0  \n",
       "1     0            0  5.0  \n",
       "2     0            0  5.0  \n",
       "3     0            0  5.0  \n",
       "4     0            0  5.0  \n",
       "5     0            0  4.0  \n",
       "6     1            0  5.0  \n",
       "7     0            0  4.0  \n",
       "8     0            0  4.0  \n",
       "9     0            0  5.0  \n",
       "\n",
       "[10 rows x 207 columns]"
      ]
     },
     "execution_count": 70,
     "metadata": {},
     "output_type": "execute_result"
    }
   ],
   "source": [
    "df_CV_test = pd.DataFrame(X_test)\n",
    "df_CV_test['y'] = y_test\n",
    "df_CV_test.columns = variable_name\n",
    "df_CV_test.head(10) # Test set without tf-idf"
   ]
  },
  {
   "cell_type": "code",
   "execution_count": 71,
   "metadata": {},
   "outputs": [],
   "source": [
    "# prepare tf-idf dataset"
   ]
  },
  {
   "cell_type": "code",
   "execution_count": 72,
   "metadata": {},
   "outputs": [],
   "source": [
    "from sklearn.feature_extraction.text import TfidfVectorizer"
   ]
  },
  {
   "cell_type": "code",
   "execution_count": 73,
   "metadata": {},
   "outputs": [],
   "source": [
    "pipeline_tfidf = Pipeline([('posf', PartOfSpeechFilter()),\n",
    "                     ('tfidf', TfidfVectorizer())\n",
    "                   ])\n",
    "pipeline_tfidf.set_params(posf__stop_words=stop_words_list, tfidf__lowercase=True, tfidf__max_df=0.95, \n",
    "                    tfidf__min_df=0.01, tfidf__stop_words=stop_words_update, tfidf__norm='l2', tfidf__use_idf=True)\n",
    "pipe_tfidf_cv = pipeline_tfidf.named_steps['tfidf']"
   ]
  },
  {
   "cell_type": "code",
   "execution_count": 74,
   "metadata": {},
   "outputs": [],
   "source": [
    "image = training.loc[:, 'image']\n",
    "review_format = training.loc[:,'review_format']\n",
    "title_pre = training.loc[:,'review_title']\n",
    "title = pipeline_tfidf.fit_transform(title_pre)\n",
    "title_feature_name = pipe_tfidf_cv.get_feature_names()\n",
    "body_pre = training.loc[:,'review_body']\n",
    "body = pipeline_tfidf.fit_transform(body_pre)\n",
    "body_feature_name = pipe_tfidf_cv.get_feature_names()\n",
    "fake = training.loc[:, 'fake_review']\n",
    "y_tfidf = training.loc[:, 'rate']"
   ]
  },
  {
   "cell_type": "code",
   "execution_count": 75,
   "metadata": {},
   "outputs": [
    {
     "data": {
      "text/plain": [
       "(608, 206)"
      ]
     },
     "execution_count": 75,
     "metadata": {},
     "output_type": "execute_result"
    }
   ],
   "source": [
    "image_array = to_array_variabel(image, (608,1))\n",
    "format_array = to_array_variabel(review_format, (608,1))\n",
    "fake_array = to_array_variabel(fake, (608,1))\n",
    "# the order of the variables are image, formate, body, title, fake\n",
    "X_tfidf = np.hstack((image_array, format_array, body.toarray(), title.toarray(), fake_array))\n",
    "X_tfidf.shape"
   ]
  },
  {
   "cell_type": "code",
   "execution_count": 76,
   "metadata": {},
   "outputs": [],
   "source": [
    "variable_name = ['image_or_not', 'format_']+body_feature_name+title_feature_name+['fake_review']+['y']"
   ]
  },
  {
   "cell_type": "code",
   "execution_count": 77,
   "metadata": {},
   "outputs": [
    {
     "data": {
      "text/html": [
       "<div>\n",
       "<style scoped>\n",
       "    .dataframe tbody tr th:only-of-type {\n",
       "        vertical-align: middle;\n",
       "    }\n",
       "\n",
       "    .dataframe tbody tr th {\n",
       "        vertical-align: top;\n",
       "    }\n",
       "\n",
       "    .dataframe thead th {\n",
       "        text-align: right;\n",
       "    }\n",
       "</style>\n",
       "<table border=\"1\" class=\"dataframe\">\n",
       "  <thead>\n",
       "    <tr style=\"text-align: right;\">\n",
       "      <th></th>\n",
       "      <th>image_or_not</th>\n",
       "      <th>format_</th>\n",
       "      <th>adjust</th>\n",
       "      <th>adjustable</th>\n",
       "      <th>amazing</th>\n",
       "      <th>awesome</th>\n",
       "      <th>backpack</th>\n",
       "      <th>bad</th>\n",
       "      <th>battery</th>\n",
       "      <th>beam</th>\n",
       "      <th>...</th>\n",
       "      <th>powerful</th>\n",
       "      <th>price</th>\n",
       "      <th>product</th>\n",
       "      <th>quality</th>\n",
       "      <th>size</th>\n",
       "      <th>small</th>\n",
       "      <th>value</th>\n",
       "      <th>work</th>\n",
       "      <th>fake_review</th>\n",
       "      <th>y</th>\n",
       "    </tr>\n",
       "  </thead>\n",
       "  <tbody>\n",
       "    <tr>\n",
       "      <th>0</th>\n",
       "      <td>0.0</td>\n",
       "      <td>0.0</td>\n",
       "      <td>0.0</td>\n",
       "      <td>0.0</td>\n",
       "      <td>0.0</td>\n",
       "      <td>0.0</td>\n",
       "      <td>0.0</td>\n",
       "      <td>0.000000</td>\n",
       "      <td>0.000000</td>\n",
       "      <td>0.0</td>\n",
       "      <td>...</td>\n",
       "      <td>0.0</td>\n",
       "      <td>0.00000</td>\n",
       "      <td>0.0</td>\n",
       "      <td>0.0</td>\n",
       "      <td>0.0</td>\n",
       "      <td>0.0</td>\n",
       "      <td>0.0</td>\n",
       "      <td>0.0</td>\n",
       "      <td>0.0</td>\n",
       "      <td>1.0</td>\n",
       "    </tr>\n",
       "    <tr>\n",
       "      <th>1</th>\n",
       "      <td>0.0</td>\n",
       "      <td>0.0</td>\n",
       "      <td>0.0</td>\n",
       "      <td>0.0</td>\n",
       "      <td>0.0</td>\n",
       "      <td>0.0</td>\n",
       "      <td>0.0</td>\n",
       "      <td>0.000000</td>\n",
       "      <td>0.442841</td>\n",
       "      <td>0.0</td>\n",
       "      <td>...</td>\n",
       "      <td>0.0</td>\n",
       "      <td>0.00000</td>\n",
       "      <td>0.0</td>\n",
       "      <td>0.0</td>\n",
       "      <td>0.0</td>\n",
       "      <td>0.0</td>\n",
       "      <td>0.0</td>\n",
       "      <td>0.0</td>\n",
       "      <td>0.0</td>\n",
       "      <td>4.0</td>\n",
       "    </tr>\n",
       "    <tr>\n",
       "      <th>2</th>\n",
       "      <td>0.0</td>\n",
       "      <td>0.0</td>\n",
       "      <td>0.0</td>\n",
       "      <td>0.0</td>\n",
       "      <td>0.0</td>\n",
       "      <td>0.0</td>\n",
       "      <td>0.0</td>\n",
       "      <td>0.000000</td>\n",
       "      <td>0.000000</td>\n",
       "      <td>0.0</td>\n",
       "      <td>...</td>\n",
       "      <td>0.0</td>\n",
       "      <td>0.00000</td>\n",
       "      <td>0.0</td>\n",
       "      <td>0.0</td>\n",
       "      <td>0.0</td>\n",
       "      <td>0.0</td>\n",
       "      <td>0.0</td>\n",
       "      <td>0.0</td>\n",
       "      <td>0.0</td>\n",
       "      <td>5.0</td>\n",
       "    </tr>\n",
       "    <tr>\n",
       "      <th>3</th>\n",
       "      <td>0.0</td>\n",
       "      <td>0.0</td>\n",
       "      <td>0.0</td>\n",
       "      <td>0.0</td>\n",
       "      <td>0.0</td>\n",
       "      <td>0.0</td>\n",
       "      <td>0.0</td>\n",
       "      <td>0.000000</td>\n",
       "      <td>0.000000</td>\n",
       "      <td>0.0</td>\n",
       "      <td>...</td>\n",
       "      <td>0.0</td>\n",
       "      <td>0.00000</td>\n",
       "      <td>0.0</td>\n",
       "      <td>0.0</td>\n",
       "      <td>0.0</td>\n",
       "      <td>0.0</td>\n",
       "      <td>0.0</td>\n",
       "      <td>0.0</td>\n",
       "      <td>0.0</td>\n",
       "      <td>5.0</td>\n",
       "    </tr>\n",
       "    <tr>\n",
       "      <th>4</th>\n",
       "      <td>0.0</td>\n",
       "      <td>0.0</td>\n",
       "      <td>0.0</td>\n",
       "      <td>0.0</td>\n",
       "      <td>0.0</td>\n",
       "      <td>0.0</td>\n",
       "      <td>0.0</td>\n",
       "      <td>0.000000</td>\n",
       "      <td>0.000000</td>\n",
       "      <td>0.0</td>\n",
       "      <td>...</td>\n",
       "      <td>0.0</td>\n",
       "      <td>0.00000</td>\n",
       "      <td>0.0</td>\n",
       "      <td>0.0</td>\n",
       "      <td>0.0</td>\n",
       "      <td>0.0</td>\n",
       "      <td>0.0</td>\n",
       "      <td>0.0</td>\n",
       "      <td>0.0</td>\n",
       "      <td>5.0</td>\n",
       "    </tr>\n",
       "    <tr>\n",
       "      <th>5</th>\n",
       "      <td>0.0</td>\n",
       "      <td>0.0</td>\n",
       "      <td>0.0</td>\n",
       "      <td>0.0</td>\n",
       "      <td>0.0</td>\n",
       "      <td>0.0</td>\n",
       "      <td>0.0</td>\n",
       "      <td>0.397839</td>\n",
       "      <td>0.000000</td>\n",
       "      <td>0.0</td>\n",
       "      <td>...</td>\n",
       "      <td>0.0</td>\n",
       "      <td>0.61103</td>\n",
       "      <td>0.0</td>\n",
       "      <td>0.0</td>\n",
       "      <td>0.0</td>\n",
       "      <td>0.0</td>\n",
       "      <td>0.0</td>\n",
       "      <td>0.0</td>\n",
       "      <td>0.0</td>\n",
       "      <td>5.0</td>\n",
       "    </tr>\n",
       "    <tr>\n",
       "      <th>6</th>\n",
       "      <td>0.0</td>\n",
       "      <td>0.0</td>\n",
       "      <td>0.0</td>\n",
       "      <td>0.0</td>\n",
       "      <td>0.0</td>\n",
       "      <td>0.0</td>\n",
       "      <td>0.0</td>\n",
       "      <td>0.000000</td>\n",
       "      <td>0.000000</td>\n",
       "      <td>0.0</td>\n",
       "      <td>...</td>\n",
       "      <td>0.0</td>\n",
       "      <td>0.00000</td>\n",
       "      <td>0.0</td>\n",
       "      <td>0.0</td>\n",
       "      <td>0.0</td>\n",
       "      <td>0.0</td>\n",
       "      <td>0.0</td>\n",
       "      <td>0.0</td>\n",
       "      <td>0.0</td>\n",
       "      <td>4.0</td>\n",
       "    </tr>\n",
       "    <tr>\n",
       "      <th>7</th>\n",
       "      <td>0.0</td>\n",
       "      <td>0.0</td>\n",
       "      <td>0.0</td>\n",
       "      <td>0.0</td>\n",
       "      <td>0.0</td>\n",
       "      <td>0.0</td>\n",
       "      <td>0.0</td>\n",
       "      <td>0.000000</td>\n",
       "      <td>0.000000</td>\n",
       "      <td>0.0</td>\n",
       "      <td>...</td>\n",
       "      <td>0.0</td>\n",
       "      <td>0.00000</td>\n",
       "      <td>0.0</td>\n",
       "      <td>0.0</td>\n",
       "      <td>0.0</td>\n",
       "      <td>0.0</td>\n",
       "      <td>0.0</td>\n",
       "      <td>0.0</td>\n",
       "      <td>0.0</td>\n",
       "      <td>4.0</td>\n",
       "    </tr>\n",
       "    <tr>\n",
       "      <th>8</th>\n",
       "      <td>0.0</td>\n",
       "      <td>0.0</td>\n",
       "      <td>0.0</td>\n",
       "      <td>0.0</td>\n",
       "      <td>0.0</td>\n",
       "      <td>0.0</td>\n",
       "      <td>0.0</td>\n",
       "      <td>0.000000</td>\n",
       "      <td>0.000000</td>\n",
       "      <td>0.0</td>\n",
       "      <td>...</td>\n",
       "      <td>0.0</td>\n",
       "      <td>0.00000</td>\n",
       "      <td>0.0</td>\n",
       "      <td>0.0</td>\n",
       "      <td>0.0</td>\n",
       "      <td>0.0</td>\n",
       "      <td>0.0</td>\n",
       "      <td>0.0</td>\n",
       "      <td>0.0</td>\n",
       "      <td>4.0</td>\n",
       "    </tr>\n",
       "    <tr>\n",
       "      <th>9</th>\n",
       "      <td>0.0</td>\n",
       "      <td>0.0</td>\n",
       "      <td>0.0</td>\n",
       "      <td>0.0</td>\n",
       "      <td>0.0</td>\n",
       "      <td>0.0</td>\n",
       "      <td>0.0</td>\n",
       "      <td>0.000000</td>\n",
       "      <td>0.000000</td>\n",
       "      <td>0.0</td>\n",
       "      <td>...</td>\n",
       "      <td>0.0</td>\n",
       "      <td>0.00000</td>\n",
       "      <td>0.0</td>\n",
       "      <td>0.0</td>\n",
       "      <td>0.0</td>\n",
       "      <td>0.0</td>\n",
       "      <td>0.0</td>\n",
       "      <td>0.0</td>\n",
       "      <td>0.0</td>\n",
       "      <td>1.0</td>\n",
       "    </tr>\n",
       "  </tbody>\n",
       "</table>\n",
       "<p>10 rows × 207 columns</p>\n",
       "</div>"
      ],
      "text/plain": [
       "   image_or_not  format_  adjust  adjustable  amazing  awesome  backpack  \\\n",
       "0           0.0      0.0     0.0         0.0      0.0      0.0       0.0   \n",
       "1           0.0      0.0     0.0         0.0      0.0      0.0       0.0   \n",
       "2           0.0      0.0     0.0         0.0      0.0      0.0       0.0   \n",
       "3           0.0      0.0     0.0         0.0      0.0      0.0       0.0   \n",
       "4           0.0      0.0     0.0         0.0      0.0      0.0       0.0   \n",
       "5           0.0      0.0     0.0         0.0      0.0      0.0       0.0   \n",
       "6           0.0      0.0     0.0         0.0      0.0      0.0       0.0   \n",
       "7           0.0      0.0     0.0         0.0      0.0      0.0       0.0   \n",
       "8           0.0      0.0     0.0         0.0      0.0      0.0       0.0   \n",
       "9           0.0      0.0     0.0         0.0      0.0      0.0       0.0   \n",
       "\n",
       "        bad   battery  beam ...   powerful    price  product  quality  size  \\\n",
       "0  0.000000  0.000000   0.0 ...        0.0  0.00000      0.0      0.0   0.0   \n",
       "1  0.000000  0.442841   0.0 ...        0.0  0.00000      0.0      0.0   0.0   \n",
       "2  0.000000  0.000000   0.0 ...        0.0  0.00000      0.0      0.0   0.0   \n",
       "3  0.000000  0.000000   0.0 ...        0.0  0.00000      0.0      0.0   0.0   \n",
       "4  0.000000  0.000000   0.0 ...        0.0  0.00000      0.0      0.0   0.0   \n",
       "5  0.397839  0.000000   0.0 ...        0.0  0.61103      0.0      0.0   0.0   \n",
       "6  0.000000  0.000000   0.0 ...        0.0  0.00000      0.0      0.0   0.0   \n",
       "7  0.000000  0.000000   0.0 ...        0.0  0.00000      0.0      0.0   0.0   \n",
       "8  0.000000  0.000000   0.0 ...        0.0  0.00000      0.0      0.0   0.0   \n",
       "9  0.000000  0.000000   0.0 ...        0.0  0.00000      0.0      0.0   0.0   \n",
       "\n",
       "   small  value  work  fake_review    y  \n",
       "0    0.0    0.0   0.0          0.0  1.0  \n",
       "1    0.0    0.0   0.0          0.0  4.0  \n",
       "2    0.0    0.0   0.0          0.0  5.0  \n",
       "3    0.0    0.0   0.0          0.0  5.0  \n",
       "4    0.0    0.0   0.0          0.0  5.0  \n",
       "5    0.0    0.0   0.0          0.0  5.0  \n",
       "6    0.0    0.0   0.0          0.0  4.0  \n",
       "7    0.0    0.0   0.0          0.0  4.0  \n",
       "8    0.0    0.0   0.0          0.0  4.0  \n",
       "9    0.0    0.0   0.0          0.0  1.0  \n",
       "\n",
       "[10 rows x 207 columns]"
      ]
     },
     "execution_count": 77,
     "metadata": {},
     "output_type": "execute_result"
    }
   ],
   "source": [
    "training_tfidf = pd.DataFrame(X_tfidf)\n",
    "training_tfidf['y'] = y_tfidf\n",
    "training_tfidf.columns = variable_name\n",
    "training_tfidf.head(10) #Training set with tf-idf"
   ]
  },
  {
   "cell_type": "code",
   "execution_count": 78,
   "metadata": {},
   "outputs": [],
   "source": [
    "image = test.loc[:, 'image']\n",
    "review_format = test.loc[:,'review_format']\n",
    "title_pre = training.loc[:,'review_title']\n",
    "title = pipeline_tfidf.fit_transform(title_pre)\n",
    "title_test_pre = test.loc[:,'review_title']\n",
    "title = pipeline_tfidf.transform(title_test_pre)\n",
    "body_pre = training.loc[:,'review_body']\n",
    "body = pipeline_tfidf.fit_transform(body_pre)\n",
    "body_test_pre = test.loc[:,'review_body']\n",
    "body = pipeline_tfidf.transform(body_test_pre)\n",
    "fake = test.loc[:, 'fake_review']\n",
    "y_tfidf_test = test.loc[:, 'rate']"
   ]
  },
  {
   "cell_type": "code",
   "execution_count": 79,
   "metadata": {},
   "outputs": [],
   "source": [
    "image_array = to_array_variabel(image, (153,1))\n",
    "format_array = to_array_variabel(review_format, (153,1))\n",
    "fake_array = to_array_variabel(fake, (153,1))\n",
    "# the order of the variables are image, formate, body, title, fake\n",
    "X_tfidf_test = np.hstack((image_array, format_array, body.toarray(), title.toarray(), fake_array))"
   ]
  },
  {
   "cell_type": "code",
   "execution_count": 80,
   "metadata": {},
   "outputs": [
    {
     "data": {
      "text/html": [
       "<div>\n",
       "<style scoped>\n",
       "    .dataframe tbody tr th:only-of-type {\n",
       "        vertical-align: middle;\n",
       "    }\n",
       "\n",
       "    .dataframe tbody tr th {\n",
       "        vertical-align: top;\n",
       "    }\n",
       "\n",
       "    .dataframe thead th {\n",
       "        text-align: right;\n",
       "    }\n",
       "</style>\n",
       "<table border=\"1\" class=\"dataframe\">\n",
       "  <thead>\n",
       "    <tr style=\"text-align: right;\">\n",
       "      <th></th>\n",
       "      <th>image_or_not</th>\n",
       "      <th>format_</th>\n",
       "      <th>adjust</th>\n",
       "      <th>adjustable</th>\n",
       "      <th>amazing</th>\n",
       "      <th>awesome</th>\n",
       "      <th>backpack</th>\n",
       "      <th>bad</th>\n",
       "      <th>battery</th>\n",
       "      <th>beam</th>\n",
       "      <th>...</th>\n",
       "      <th>powerful</th>\n",
       "      <th>price</th>\n",
       "      <th>product</th>\n",
       "      <th>quality</th>\n",
       "      <th>size</th>\n",
       "      <th>small</th>\n",
       "      <th>value</th>\n",
       "      <th>work</th>\n",
       "      <th>fake_review</th>\n",
       "      <th>y</th>\n",
       "    </tr>\n",
       "  </thead>\n",
       "  <tbody>\n",
       "    <tr>\n",
       "      <th>0</th>\n",
       "      <td>0.0</td>\n",
       "      <td>0.0</td>\n",
       "      <td>0.0</td>\n",
       "      <td>0.0</td>\n",
       "      <td>0.0</td>\n",
       "      <td>0.0</td>\n",
       "      <td>0.0</td>\n",
       "      <td>0.0</td>\n",
       "      <td>0.000000</td>\n",
       "      <td>0.0</td>\n",
       "      <td>...</td>\n",
       "      <td>0.0</td>\n",
       "      <td>0.0</td>\n",
       "      <td>0.0</td>\n",
       "      <td>0.0</td>\n",
       "      <td>0.0</td>\n",
       "      <td>0.000000</td>\n",
       "      <td>0.869841</td>\n",
       "      <td>0.0</td>\n",
       "      <td>0.0</td>\n",
       "      <td>5.0</td>\n",
       "    </tr>\n",
       "    <tr>\n",
       "      <th>1</th>\n",
       "      <td>0.0</td>\n",
       "      <td>0.0</td>\n",
       "      <td>0.0</td>\n",
       "      <td>0.0</td>\n",
       "      <td>0.0</td>\n",
       "      <td>0.0</td>\n",
       "      <td>0.0</td>\n",
       "      <td>0.0</td>\n",
       "      <td>0.000000</td>\n",
       "      <td>0.0</td>\n",
       "      <td>...</td>\n",
       "      <td>0.0</td>\n",
       "      <td>0.0</td>\n",
       "      <td>0.0</td>\n",
       "      <td>0.0</td>\n",
       "      <td>0.0</td>\n",
       "      <td>0.000000</td>\n",
       "      <td>0.000000</td>\n",
       "      <td>0.0</td>\n",
       "      <td>0.0</td>\n",
       "      <td>5.0</td>\n",
       "    </tr>\n",
       "    <tr>\n",
       "      <th>2</th>\n",
       "      <td>0.0</td>\n",
       "      <td>0.0</td>\n",
       "      <td>0.0</td>\n",
       "      <td>0.0</td>\n",
       "      <td>0.0</td>\n",
       "      <td>0.0</td>\n",
       "      <td>0.0</td>\n",
       "      <td>0.0</td>\n",
       "      <td>0.000000</td>\n",
       "      <td>0.0</td>\n",
       "      <td>...</td>\n",
       "      <td>0.0</td>\n",
       "      <td>0.0</td>\n",
       "      <td>0.0</td>\n",
       "      <td>0.0</td>\n",
       "      <td>0.0</td>\n",
       "      <td>0.000000</td>\n",
       "      <td>0.000000</td>\n",
       "      <td>0.0</td>\n",
       "      <td>0.0</td>\n",
       "      <td>5.0</td>\n",
       "    </tr>\n",
       "    <tr>\n",
       "      <th>3</th>\n",
       "      <td>0.0</td>\n",
       "      <td>0.0</td>\n",
       "      <td>0.0</td>\n",
       "      <td>0.0</td>\n",
       "      <td>0.0</td>\n",
       "      <td>0.0</td>\n",
       "      <td>0.0</td>\n",
       "      <td>0.0</td>\n",
       "      <td>0.187049</td>\n",
       "      <td>0.0</td>\n",
       "      <td>...</td>\n",
       "      <td>0.0</td>\n",
       "      <td>0.0</td>\n",
       "      <td>0.0</td>\n",
       "      <td>0.0</td>\n",
       "      <td>0.0</td>\n",
       "      <td>0.802501</td>\n",
       "      <td>0.000000</td>\n",
       "      <td>0.0</td>\n",
       "      <td>0.0</td>\n",
       "      <td>5.0</td>\n",
       "    </tr>\n",
       "    <tr>\n",
       "      <th>4</th>\n",
       "      <td>0.0</td>\n",
       "      <td>0.0</td>\n",
       "      <td>0.0</td>\n",
       "      <td>0.0</td>\n",
       "      <td>0.0</td>\n",
       "      <td>0.0</td>\n",
       "      <td>0.0</td>\n",
       "      <td>0.0</td>\n",
       "      <td>0.000000</td>\n",
       "      <td>0.0</td>\n",
       "      <td>...</td>\n",
       "      <td>0.0</td>\n",
       "      <td>0.0</td>\n",
       "      <td>0.0</td>\n",
       "      <td>0.0</td>\n",
       "      <td>0.0</td>\n",
       "      <td>0.000000</td>\n",
       "      <td>0.000000</td>\n",
       "      <td>0.0</td>\n",
       "      <td>0.0</td>\n",
       "      <td>5.0</td>\n",
       "    </tr>\n",
       "    <tr>\n",
       "      <th>5</th>\n",
       "      <td>0.0</td>\n",
       "      <td>0.0</td>\n",
       "      <td>0.0</td>\n",
       "      <td>0.0</td>\n",
       "      <td>0.0</td>\n",
       "      <td>0.0</td>\n",
       "      <td>0.0</td>\n",
       "      <td>0.0</td>\n",
       "      <td>0.000000</td>\n",
       "      <td>0.0</td>\n",
       "      <td>...</td>\n",
       "      <td>0.0</td>\n",
       "      <td>0.0</td>\n",
       "      <td>0.0</td>\n",
       "      <td>0.0</td>\n",
       "      <td>0.0</td>\n",
       "      <td>0.000000</td>\n",
       "      <td>0.000000</td>\n",
       "      <td>0.0</td>\n",
       "      <td>0.0</td>\n",
       "      <td>4.0</td>\n",
       "    </tr>\n",
       "    <tr>\n",
       "      <th>6</th>\n",
       "      <td>0.0</td>\n",
       "      <td>0.0</td>\n",
       "      <td>0.0</td>\n",
       "      <td>0.0</td>\n",
       "      <td>0.0</td>\n",
       "      <td>0.0</td>\n",
       "      <td>0.0</td>\n",
       "      <td>0.0</td>\n",
       "      <td>0.581071</td>\n",
       "      <td>0.0</td>\n",
       "      <td>...</td>\n",
       "      <td>0.0</td>\n",
       "      <td>0.0</td>\n",
       "      <td>0.0</td>\n",
       "      <td>0.0</td>\n",
       "      <td>0.0</td>\n",
       "      <td>0.000000</td>\n",
       "      <td>0.000000</td>\n",
       "      <td>1.0</td>\n",
       "      <td>0.0</td>\n",
       "      <td>5.0</td>\n",
       "    </tr>\n",
       "    <tr>\n",
       "      <th>7</th>\n",
       "      <td>0.0</td>\n",
       "      <td>1.0</td>\n",
       "      <td>0.0</td>\n",
       "      <td>0.0</td>\n",
       "      <td>0.0</td>\n",
       "      <td>0.0</td>\n",
       "      <td>0.0</td>\n",
       "      <td>0.0</td>\n",
       "      <td>0.000000</td>\n",
       "      <td>0.0</td>\n",
       "      <td>...</td>\n",
       "      <td>0.0</td>\n",
       "      <td>0.0</td>\n",
       "      <td>0.0</td>\n",
       "      <td>0.0</td>\n",
       "      <td>0.0</td>\n",
       "      <td>0.000000</td>\n",
       "      <td>0.000000</td>\n",
       "      <td>0.0</td>\n",
       "      <td>0.0</td>\n",
       "      <td>4.0</td>\n",
       "    </tr>\n",
       "    <tr>\n",
       "      <th>8</th>\n",
       "      <td>0.0</td>\n",
       "      <td>0.0</td>\n",
       "      <td>0.0</td>\n",
       "      <td>0.0</td>\n",
       "      <td>0.0</td>\n",
       "      <td>0.0</td>\n",
       "      <td>0.0</td>\n",
       "      <td>0.0</td>\n",
       "      <td>0.000000</td>\n",
       "      <td>0.0</td>\n",
       "      <td>...</td>\n",
       "      <td>0.0</td>\n",
       "      <td>0.0</td>\n",
       "      <td>0.0</td>\n",
       "      <td>0.0</td>\n",
       "      <td>0.0</td>\n",
       "      <td>0.000000</td>\n",
       "      <td>0.869841</td>\n",
       "      <td>0.0</td>\n",
       "      <td>0.0</td>\n",
       "      <td>4.0</td>\n",
       "    </tr>\n",
       "    <tr>\n",
       "      <th>9</th>\n",
       "      <td>0.0</td>\n",
       "      <td>0.0</td>\n",
       "      <td>0.0</td>\n",
       "      <td>0.0</td>\n",
       "      <td>0.0</td>\n",
       "      <td>0.0</td>\n",
       "      <td>0.0</td>\n",
       "      <td>0.0</td>\n",
       "      <td>0.000000</td>\n",
       "      <td>0.0</td>\n",
       "      <td>...</td>\n",
       "      <td>0.0</td>\n",
       "      <td>0.0</td>\n",
       "      <td>0.0</td>\n",
       "      <td>0.0</td>\n",
       "      <td>0.0</td>\n",
       "      <td>0.000000</td>\n",
       "      <td>0.000000</td>\n",
       "      <td>0.0</td>\n",
       "      <td>0.0</td>\n",
       "      <td>5.0</td>\n",
       "    </tr>\n",
       "  </tbody>\n",
       "</table>\n",
       "<p>10 rows × 207 columns</p>\n",
       "</div>"
      ],
      "text/plain": [
       "   image_or_not  format_  adjust  adjustable  amazing  awesome  backpack  bad  \\\n",
       "0           0.0      0.0     0.0         0.0      0.0      0.0       0.0  0.0   \n",
       "1           0.0      0.0     0.0         0.0      0.0      0.0       0.0  0.0   \n",
       "2           0.0      0.0     0.0         0.0      0.0      0.0       0.0  0.0   \n",
       "3           0.0      0.0     0.0         0.0      0.0      0.0       0.0  0.0   \n",
       "4           0.0      0.0     0.0         0.0      0.0      0.0       0.0  0.0   \n",
       "5           0.0      0.0     0.0         0.0      0.0      0.0       0.0  0.0   \n",
       "6           0.0      0.0     0.0         0.0      0.0      0.0       0.0  0.0   \n",
       "7           0.0      1.0     0.0         0.0      0.0      0.0       0.0  0.0   \n",
       "8           0.0      0.0     0.0         0.0      0.0      0.0       0.0  0.0   \n",
       "9           0.0      0.0     0.0         0.0      0.0      0.0       0.0  0.0   \n",
       "\n",
       "    battery  beam ...   powerful  price  product  quality  size     small  \\\n",
       "0  0.000000   0.0 ...        0.0    0.0      0.0      0.0   0.0  0.000000   \n",
       "1  0.000000   0.0 ...        0.0    0.0      0.0      0.0   0.0  0.000000   \n",
       "2  0.000000   0.0 ...        0.0    0.0      0.0      0.0   0.0  0.000000   \n",
       "3  0.187049   0.0 ...        0.0    0.0      0.0      0.0   0.0  0.802501   \n",
       "4  0.000000   0.0 ...        0.0    0.0      0.0      0.0   0.0  0.000000   \n",
       "5  0.000000   0.0 ...        0.0    0.0      0.0      0.0   0.0  0.000000   \n",
       "6  0.581071   0.0 ...        0.0    0.0      0.0      0.0   0.0  0.000000   \n",
       "7  0.000000   0.0 ...        0.0    0.0      0.0      0.0   0.0  0.000000   \n",
       "8  0.000000   0.0 ...        0.0    0.0      0.0      0.0   0.0  0.000000   \n",
       "9  0.000000   0.0 ...        0.0    0.0      0.0      0.0   0.0  0.000000   \n",
       "\n",
       "      value  work  fake_review    y  \n",
       "0  0.869841   0.0          0.0  5.0  \n",
       "1  0.000000   0.0          0.0  5.0  \n",
       "2  0.000000   0.0          0.0  5.0  \n",
       "3  0.000000   0.0          0.0  5.0  \n",
       "4  0.000000   0.0          0.0  5.0  \n",
       "5  0.000000   0.0          0.0  4.0  \n",
       "6  0.000000   1.0          0.0  5.0  \n",
       "7  0.000000   0.0          0.0  4.0  \n",
       "8  0.869841   0.0          0.0  4.0  \n",
       "9  0.000000   0.0          0.0  5.0  \n",
       "\n",
       "[10 rows x 207 columns]"
      ]
     },
     "execution_count": 80,
     "metadata": {},
     "output_type": "execute_result"
    }
   ],
   "source": [
    "test_tfidf = pd.DataFrame(X_tfidf_test)\n",
    "test_tfidf['y'] = y_tfidf_test\n",
    "test_tfidf.columns = variable_name\n",
    "test_tfidf.head(10) # Test set with tf-idf"
   ]
  },
  {
   "cell_type": "markdown",
   "metadata": {},
   "source": [
    "# 3. Build the model"
   ]
  },
  {
   "cell_type": "markdown",
   "metadata": {},
   "source": [
    "## 3.1 Logistic Regression"
   ]
  },
  {
   "cell_type": "code",
   "execution_count": 81,
   "metadata": {},
   "outputs": [],
   "source": [
    "from sklearn.linear_model import LogisticRegression"
   ]
  },
  {
   "cell_type": "code",
   "execution_count": 82,
   "metadata": {},
   "outputs": [
    {
     "data": {
      "text/plain": [
       "LogisticRegression(C=1.0, class_weight=None, dual=False, fit_intercept=True,\n",
       "          intercept_scaling=1, max_iter=100, multi_class='ovr', n_jobs=1,\n",
       "          penalty='l2', random_state=None, solver='liblinear', tol=0.0001,\n",
       "          verbose=0, warm_start=False)"
      ]
     },
     "execution_count": 82,
     "metadata": {},
     "output_type": "execute_result"
    }
   ],
   "source": [
    "lr = LogisticRegression()\n",
    "# the attribute of the function (default parameters)\n",
    "lr.fit(X, y)"
   ]
  },
  {
   "cell_type": "code",
   "execution_count": 83,
   "metadata": {},
   "outputs": [],
   "source": [
    "np.random.seed(23)\n",
    "training_test = pd.DataFrame(X)\n",
    "index_training = np.random.choice(a=training_test.index, size=200, replace=False)\n",
    "training_test_val = training_test.loc[index_training]\n",
    "train_rate = pd.DataFrame(y)\n",
    "labels = train_rate.loc[:,'rate']\n",
    "labels_new = labels.reset_index(drop=True)\n",
    "training_test_labels = labels_new.loc[index_training]"
   ]
  },
  {
   "cell_type": "code",
   "execution_count": 84,
   "metadata": {},
   "outputs": [],
   "source": [
    "preproc_training_test = pd.DataFrame.as_matrix(training_test_val)"
   ]
  },
  {
   "cell_type": "code",
   "execution_count": 85,
   "metadata": {},
   "outputs": [
    {
     "data": {
      "text/plain": [
       "0.85"
      ]
     },
     "execution_count": 85,
     "metadata": {},
     "output_type": "execute_result"
    }
   ],
   "source": [
    "# the logistic regression accuracy score\n",
    "lr.score(preproc_training_test, training_test_labels)"
   ]
  },
  {
   "cell_type": "code",
   "execution_count": 86,
   "metadata": {
    "scrolled": true
   },
   "outputs": [],
   "source": [
    "from sklearn.metrics import confusion_matrix"
   ]
  },
  {
   "cell_type": "code",
   "execution_count": 87,
   "metadata": {},
   "outputs": [
    {
     "data": {
      "text/plain": [
       "array([[ 15,   0,   0,   1,   2],\n",
       "       [  3,   7,   0,   0,   3],\n",
       "       [  2,   0,   7,   1,   6],\n",
       "       [  2,   0,   0,  16,   8],\n",
       "       [  0,   0,   0,   2, 125]])"
      ]
     },
     "execution_count": 87,
     "metadata": {},
     "output_type": "execute_result"
    }
   ],
   "source": [
    "# check the confusion matrix\n",
    "# it seems that many rates are predicted as 5 point, which generates the most of errors.\n",
    "conf_matrix = confusion_matrix(training_test_labels, lr.predict(preproc_training_test), labels=[1,2,3,4,5])\n",
    "conf_matrix"
   ]
  },
  {
   "cell_type": "markdown",
   "metadata": {},
   "source": [
    "- Changing parameters of the model as below"
   ]
  },
  {
   "cell_type": "code",
   "execution_count": 88,
   "metadata": {},
   "outputs": [],
   "source": [
    "from sklearn.model_selection import cross_validate\n",
    "from sklearn.model_selection import cross_val_score"
   ]
  },
  {
   "cell_type": "code",
   "execution_count": 89,
   "metadata": {},
   "outputs": [
    {
     "data": {
      "text/plain": [
       "LogisticRegression(C=1.0, class_weight=None, dual=False, fit_intercept=True,\n",
       "          intercept_scaling=1, max_iter=100, multi_class='ovr', n_jobs=1,\n",
       "          penalty='l2', random_state=20, solver='liblinear', tol=0.0001,\n",
       "          verbose=0, warm_start=False)"
      ]
     },
     "execution_count": 89,
     "metadata": {},
     "output_type": "execute_result"
    }
   ],
   "source": [
    "# using the default parameters of the logistic regression\n",
    "lr = LogisticRegression(random_state=20)\n",
    "lr.fit(X, y)"
   ]
  },
  {
   "cell_type": "code",
   "execution_count": 90,
   "metadata": {},
   "outputs": [
    {
     "data": {
      "text/plain": [
       "{'fit_time': array([0.01005363, 0.00858498, 0.00807476, 0.00856256, 0.00702   ,\n",
       "        0.00695753, 0.00699592, 0.00662279, 0.00619936, 0.00597978]),\n",
       " 'score_time': array([0.00047326, 0.0004499 , 0.00037885, 0.00041723, 0.00030971,\n",
       "        0.00026083, 0.00038934, 0.0002389 , 0.00022125, 0.00021195]),\n",
       " 'test_accuracy': array([0.62903226, 0.69354839, 0.72580645, 0.61290323, 0.64516129,\n",
       "        0.66129032, 0.73770492, 0.66101695, 0.74576271, 0.71929825]),\n",
       " 'train_accuracy': array([0.83699634, 0.84065934, 0.81868132, 0.84065934, 0.82967033,\n",
       "        0.83150183, 0.8226691 , 0.8287796 , 0.82513661, 0.82577132])}"
      ]
     },
     "execution_count": 90,
     "metadata": {},
     "output_type": "execute_result"
    }
   ],
   "source": [
    "scores = cross_validate(lr, X, y, cv=10, \n",
    "                        scoring=['accuracy'],\n",
    "                        return_train_score=True\n",
    "                       )\n",
    "scores\n",
    "# overfitting issue exists possibly"
   ]
  },
  {
   "cell_type": "code",
   "execution_count": 91,
   "metadata": {},
   "outputs": [
    {
     "name": "stdout",
     "output_type": "stream",
     "text": [
      "The mean of test_accuracy of the model with the default hyperparameter:\n"
     ]
    },
    {
     "data": {
      "text/plain": [
       "0.6831524760147641"
      ]
     },
     "execution_count": 91,
     "metadata": {},
     "output_type": "execute_result"
    }
   ],
   "source": [
    "print ('The mean of test_accuracy of the model with the default hyperparameter:')\n",
    "scores['test_accuracy'].mean()"
   ]
  },
  {
   "cell_type": "code",
   "execution_count": 92,
   "metadata": {},
   "outputs": [
    {
     "data": {
      "text/plain": [
       "LogisticRegression(C=1.0, class_weight=None, dual=False, fit_intercept=True,\n",
       "          intercept_scaling=1, max_iter=1000, multi_class='multinomial',\n",
       "          n_jobs=1, penalty='l2', random_state=20, solver='saga',\n",
       "          tol=0.0001, verbose=0, warm_start=False)"
      ]
     },
     "execution_count": 92,
     "metadata": {},
     "output_type": "execute_result"
    }
   ],
   "source": [
    "# Change some of the parameters to see how the model fits\n",
    "lr2 = LogisticRegression(solver='saga', multi_class='multinomial', random_state=20, max_iter=1000)\n",
    "lr2.fit(X, y)"
   ]
  },
  {
   "cell_type": "code",
   "execution_count": 93,
   "metadata": {},
   "outputs": [
    {
     "data": {
      "text/plain": [
       "{'fit_time': array([0.85254455, 0.82071257, 0.46208239, 0.80652547, 0.85709667,\n",
       "        0.86238384, 0.84772968, 0.87532139, 0.8224535 , 0.84816599]),\n",
       " 'score_time': array([0.00037575, 0.00037456, 0.00030088, 0.00028396, 0.000386  ,\n",
       "        0.00038433, 0.00037742, 0.00037885, 0.00037694, 0.00033617]),\n",
       " 'test_accuracy': array([0.62903226, 0.69354839, 0.70967742, 0.59677419, 0.64516129,\n",
       "        0.70967742, 0.75409836, 0.69491525, 0.72881356, 0.70175439]),\n",
       " 'train_accuracy': array([0.87362637, 0.86630037, 0.86263736, 0.87362637, 0.86813187,\n",
       "        0.86996337, 0.85740402, 0.86338798, 0.8579235 , 0.86206897])}"
      ]
     },
     "execution_count": 93,
     "metadata": {},
     "output_type": "execute_result"
    }
   ],
   "source": [
    "scores = cross_validate(lr2, X, y, cv=10, \n",
    "                        scoring=['accuracy'],\n",
    "                        return_train_score=True\n",
    "                       )\n",
    "scores"
   ]
  },
  {
   "cell_type": "code",
   "execution_count": 94,
   "metadata": {},
   "outputs": [
    {
     "data": {
      "text/plain": [
       "0.6863452527921907"
      ]
     },
     "execution_count": 94,
     "metadata": {},
     "output_type": "execute_result"
    }
   ],
   "source": [
    "scores['test_accuracy'].mean()\n",
    "# the accuracy hasn't changed at all.\n",
    "# then, we are going to decide the best combination of the model"
   ]
  },
  {
   "cell_type": "code",
   "execution_count": 95,
   "metadata": {},
   "outputs": [],
   "source": [
    "from sklearn.model_selection import GridSearchCV"
   ]
  },
  {
   "cell_type": "code",
   "execution_count": 96,
   "metadata": {},
   "outputs": [],
   "source": [
    "# hyperparameter combinations test\n",
    "lr = LogisticRegression(random_state=20, max_iter=10000)\n",
    "param_grid = { 'C': [1, 0.5, 5, 10,100], 'multi_class' : ['ovr','multinomial'], 'solver':['saga','newton-cg', 'lbfgs']}\n",
    "grid = GridSearchCV(lr, param_grid=param_grid, cv=10, n_jobs=-1)"
   ]
  },
  {
   "cell_type": "code",
   "execution_count": 97,
   "metadata": {},
   "outputs": [
    {
     "name": "stdout",
     "output_type": "stream",
     "text": [
      "CPU times: user 1.65 s, sys: 141 ms, total: 1.8 s\n",
      "Wall time: 2min 34s\n"
     ]
    },
    {
     "data": {
      "text/plain": [
       "GridSearchCV(cv=10, error_score='raise',\n",
       "       estimator=LogisticRegression(C=1.0, class_weight=None, dual=False, fit_intercept=True,\n",
       "          intercept_scaling=1, max_iter=10000, multi_class='ovr', n_jobs=1,\n",
       "          penalty='l2', random_state=20, solver='liblinear', tol=0.0001,\n",
       "          verbose=0, warm_start=False),\n",
       "       fit_params=None, iid=True, n_jobs=-1,\n",
       "       param_grid={'C': [1, 0.5, 5, 10, 100], 'multi_class': ['ovr', 'multinomial'], 'solver': ['saga', 'newton-cg', 'lbfgs']},\n",
       "       pre_dispatch='2*n_jobs', refit=True, return_train_score='warn',\n",
       "       scoring=None, verbose=0)"
      ]
     },
     "execution_count": 97,
     "metadata": {},
     "output_type": "execute_result"
    }
   ],
   "source": [
    "%%time\n",
    "grid.fit(X, y)"
   ]
  },
  {
   "cell_type": "code",
   "execution_count": 98,
   "metadata": {
    "scrolled": true
   },
   "outputs": [
    {
     "data": {
      "text/plain": [
       "{'C': 1, 'multi_class': 'multinomial', 'solver': 'saga'}"
      ]
     },
     "execution_count": 98,
     "metadata": {},
     "output_type": "execute_result"
    }
   ],
   "source": [
    "# the best parameters for the logistic regression is:\n",
    "grid.best_params_"
   ]
  },
  {
   "cell_type": "code",
   "execution_count": 99,
   "metadata": {},
   "outputs": [
    {
     "data": {
      "text/plain": [
       "array([0.68256579, 0.68256579, 0.68256579, 0.68585526, 0.68585526,\n",
       "       0.68585526, 0.68092105, 0.67927632, 0.67927632, 0.68421053,\n",
       "       0.68421053, 0.68421053, 0.66282895, 0.66447368, 0.66447368,\n",
       "       0.64473684, 0.64473684, 0.64473684, 0.64967105, 0.64802632,\n",
       "       0.64802632, 0.63980263, 0.64473684, 0.64473684, 0.62664474,\n",
       "       0.61513158, 0.61513158, 0.61677632, 0.61348684, 0.61348684])"
      ]
     },
     "execution_count": 99,
     "metadata": {},
     "output_type": "execute_result"
    }
   ],
   "source": [
    "# the finally logistic regression model:\n",
    "grid.cv_results_['mean_test_score']"
   ]
  },
  {
   "cell_type": "markdown",
   "metadata": {},
   "source": [
    "- **Findings:**\n",
    "- **68.58%** seems the best accuracy we can get from the logistic regression **without TF-IDF** method.\n",
    "- Using the logistic regression method with **TF-IDF** for the preprocessing."
   ]
  },
  {
   "cell_type": "code",
   "execution_count": 103,
   "metadata": {},
   "outputs": [],
   "source": [
    "from sklearn.feature_extraction.text import TfidfVectorizer"
   ]
  },
  {
   "cell_type": "code",
   "execution_count": 104,
   "metadata": {},
   "outputs": [],
   "source": [
    "# hyperparameter combinations test\n",
    "lr = LogisticRegression(random_state=20, max_iter=10000)\n",
    "param_grid = { 'C': [1, 0.5, 5, 10,100], 'multi_class' : ['ovr', 'multinomial'], 'solver':['saga','newton-cg', 'lbfgs']}\n",
    "grid_tfidf = GridSearchCV(lr, param_grid=param_grid, cv=10, n_jobs=-1)"
   ]
  },
  {
   "cell_type": "code",
   "execution_count": 105,
   "metadata": {},
   "outputs": [
    {
     "name": "stdout",
     "output_type": "stream",
     "text": [
      "CPU times: user 1.04 s, sys: 97.6 ms, total: 1.14 s\n",
      "Wall time: 35.5 s\n"
     ]
    },
    {
     "data": {
      "text/plain": [
       "GridSearchCV(cv=10, error_score='raise',\n",
       "       estimator=LogisticRegression(C=1.0, class_weight=None, dual=False, fit_intercept=True,\n",
       "          intercept_scaling=1, max_iter=10000, multi_class='ovr', n_jobs=1,\n",
       "          penalty='l2', random_state=20, solver='liblinear', tol=0.0001,\n",
       "          verbose=0, warm_start=False),\n",
       "       fit_params=None, iid=True, n_jobs=-1,\n",
       "       param_grid={'C': [1, 0.5, 5, 10, 100], 'multi_class': ['ovr', 'multinomial'], 'solver': ['saga', 'newton-cg', 'lbfgs']},\n",
       "       pre_dispatch='2*n_jobs', refit=True, return_train_score='warn',\n",
       "       scoring=None, verbose=0)"
      ]
     },
     "execution_count": 105,
     "metadata": {},
     "output_type": "execute_result"
    }
   ],
   "source": [
    "%%time\n",
    "grid_tfidf.fit(X_tfidf, y_tfidf)"
   ]
  },
  {
   "cell_type": "code",
   "execution_count": 106,
   "metadata": {},
   "outputs": [
    {
     "data": {
      "text/plain": [
       "{'C': 5, 'multi_class': 'ovr', 'solver': 'saga'}"
      ]
     },
     "execution_count": 106,
     "metadata": {},
     "output_type": "execute_result"
    }
   ],
   "source": [
    "grid_tfidf.best_params_"
   ]
  },
  {
   "cell_type": "code",
   "execution_count": 107,
   "metadata": {},
   "outputs": [
    {
     "data": {
      "text/plain": [
       "array([0.66776316, 0.66776316, 0.66776316, 0.67269737, 0.67269737,\n",
       "       0.67269737, 0.64309211, 0.64309211, 0.64309211, 0.64967105,\n",
       "       0.64967105, 0.64967105, 0.67434211, 0.67434211, 0.67434211,\n",
       "       0.65460526, 0.65460526, 0.65460526, 0.65625   , 0.65625   ,\n",
       "       0.65625   , 0.63815789, 0.63815789, 0.63815789, 0.62171053,\n",
       "       0.61842105, 0.61842105, 0.61842105, 0.61842105, 0.61842105])"
      ]
     },
     "execution_count": 107,
     "metadata": {},
     "output_type": "execute_result"
    }
   ],
   "source": [
    "grid_tfidf.cv_results_['mean_test_score']"
   ]
  },
  {
   "cell_type": "markdown",
   "metadata": {},
   "source": [
    "- **Findings:**\n",
    "- It seems we have a slightly worse result **(accuracy of 67.26%)** with the TF-IDF method than without TF-IDF method.\n",
    "- But if the TF-IDF method is used, the algorithm can be much faster than without TF-IDF method. Especially, when the dataset is much larger, the time that an algorithm consumes will be an important issue to consider. \n",
    "- And it's very possible we have overfitting issue here. Because the results from cross validation are significantly less than using the train_test data."
   ]
  },
  {
   "cell_type": "markdown",
   "metadata": {},
   "source": [
    "## 3.2 SVM model"
   ]
  },
  {
   "cell_type": "code",
   "execution_count": 108,
   "metadata": {},
   "outputs": [],
   "source": [
    "from sklearn.svm import SVC"
   ]
  },
  {
   "cell_type": "code",
   "execution_count": 109,
   "metadata": {},
   "outputs": [
    {
     "name": "stdout",
     "output_type": "stream",
     "text": [
      "The mean of test_accuracy of the model with the default hyperparameter of SVC model:\n"
     ]
    },
    {
     "data": {
      "text/plain": [
       "0.640223837565393"
      ]
     },
     "execution_count": 109,
     "metadata": {},
     "output_type": "execute_result"
    }
   ],
   "source": [
    "# fit svc model with default hyperparameters by using tf-idf preprocessing\n",
    "svc = SVC()\n",
    "scores = cross_validate(svc, X_tfidf, y_tfidf, cv=10, n_jobs=-1, return_train_score=True)\n",
    "print ('The mean of test_accuracy of the model with the default hyperparameter of SVC model:')\n",
    "scores['test_score'].mean()"
   ]
  },
  {
   "cell_type": "code",
   "execution_count": 110,
   "metadata": {},
   "outputs": [],
   "source": [
    "# find the best combination of the hyperparameters\n",
    "svc = SVC(random_state=20)\n",
    "param_grid = { 'C': [1, 0.5, 5, 10,100], 'decision_function_shape':['ovo', 'ovr'], 'kernel':['linear', 'rbf']}\n",
    "grid_svc = GridSearchCV(svc, param_grid=param_grid, cv=10, n_jobs=-1)"
   ]
  },
  {
   "cell_type": "code",
   "execution_count": 111,
   "metadata": {},
   "outputs": [
    {
     "name": "stdout",
     "output_type": "stream",
     "text": [
      "CPU times: user 400 ms, sys: 76.7 ms, total: 476 ms\n",
      "Wall time: 4.37 s\n"
     ]
    },
    {
     "data": {
      "text/plain": [
       "GridSearchCV(cv=10, error_score='raise',\n",
       "       estimator=SVC(C=1.0, cache_size=200, class_weight=None, coef0=0.0,\n",
       "  decision_function_shape='ovr', degree=3, gamma='auto', kernel='rbf',\n",
       "  max_iter=-1, probability=False, random_state=20, shrinking=True,\n",
       "  tol=0.001, verbose=False),\n",
       "       fit_params=None, iid=True, n_jobs=-1,\n",
       "       param_grid={'C': [1, 0.5, 5, 10, 100], 'decision_function_shape': ['ovo', 'ovr'], 'kernel': ['linear', 'rbf']},\n",
       "       pre_dispatch='2*n_jobs', refit=True, return_train_score='warn',\n",
       "       scoring=None, verbose=0)"
      ]
     },
     "execution_count": 111,
     "metadata": {},
     "output_type": "execute_result"
    }
   ],
   "source": [
    "%%time\n",
    "# fit with non-tfidf dataset\n",
    "grid_svc.fit(X, y)"
   ]
  },
  {
   "cell_type": "code",
   "execution_count": 112,
   "metadata": {},
   "outputs": [
    {
     "data": {
      "text/plain": [
       "{'C': 0.5, 'decision_function_shape': 'ovo', 'kernel': 'linear'}"
      ]
     },
     "execution_count": 112,
     "metadata": {},
     "output_type": "execute_result"
    }
   ],
   "source": [
    "grid_svc.best_params_"
   ]
  },
  {
   "cell_type": "code",
   "execution_count": 113,
   "metadata": {},
   "outputs": [
    {
     "data": {
      "text/plain": [
       "array([0.64144737, 0.63980263, 0.64144737, 0.63980263, 0.68092105,\n",
       "       0.63980263, 0.68092105, 0.63980263, 0.59868421, 0.65625   ,\n",
       "       0.59868421, 0.65625   , 0.60526316, 0.66447368, 0.60526316,\n",
       "       0.66447368, 0.55592105, 0.64638158, 0.55592105, 0.64638158])"
      ]
     },
     "execution_count": 113,
     "metadata": {},
     "output_type": "execute_result"
    }
   ],
   "source": [
    "grid_svc.cv_results_['mean_test_score']"
   ]
  },
  {
   "cell_type": "code",
   "execution_count": 114,
   "metadata": {},
   "outputs": [
    {
     "name": "stdout",
     "output_type": "stream",
     "text": [
      "CPU times: user 442 ms, sys: 95.7 ms, total: 538 ms\n",
      "Wall time: 4.9 s\n"
     ]
    },
    {
     "data": {
      "text/plain": [
       "GridSearchCV(cv=10, error_score='raise',\n",
       "       estimator=SVC(C=1.0, cache_size=200, class_weight=None, coef0=0.0,\n",
       "  decision_function_shape='ovr', degree=3, gamma='auto', kernel='rbf',\n",
       "  max_iter=-1, probability=False, random_state=20, shrinking=True,\n",
       "  tol=0.001, verbose=False),\n",
       "       fit_params=None, iid=True, n_jobs=-1,\n",
       "       param_grid={'C': [1, 0.5, 5, 10, 100], 'decision_function_shape': ['ovo', 'ovr'], 'kernel': ['linear', 'rbf']},\n",
       "       pre_dispatch='2*n_jobs', refit=True, return_train_score='warn',\n",
       "       scoring=None, verbose=0)"
      ]
     },
     "execution_count": 114,
     "metadata": {},
     "output_type": "execute_result"
    }
   ],
   "source": [
    "%%time\n",
    "# fit tfidf dataset\n",
    "grid_svc.fit(X_tfidf, y_tfidf)"
   ]
  },
  {
   "cell_type": "code",
   "execution_count": 115,
   "metadata": {},
   "outputs": [
    {
     "data": {
      "text/plain": [
       "{'C': 100, 'decision_function_shape': 'ovo', 'kernel': 'rbf'}"
      ]
     },
     "execution_count": 115,
     "metadata": {},
     "output_type": "execute_result"
    }
   ],
   "source": [
    "grid_svc.best_params_"
   ]
  },
  {
   "cell_type": "code",
   "execution_count": 116,
   "metadata": {},
   "outputs": [
    {
     "data": {
      "text/plain": [
       "array([0.68092105, 0.63980263, 0.68092105, 0.63980263, 0.67434211,\n",
       "       0.63980263, 0.67434211, 0.63980263, 0.61842105, 0.63980263,\n",
       "       0.61842105, 0.63980263, 0.59375   , 0.63980263, 0.59375   ,\n",
       "       0.63980263, 0.55592105, 0.68256579, 0.55592105, 0.68256579])"
      ]
     },
     "execution_count": 116,
     "metadata": {},
     "output_type": "execute_result"
    }
   ],
   "source": [
    "grid_svc.cv_results_['mean_test_score']"
   ]
  },
  {
   "cell_type": "markdown",
   "metadata": {},
   "source": [
    "- It seems we have a slightly worse result than the logistic regression model.\n",
    "- All the models that we used didn't get good results but very similar result ( accuracy around 65%-68%, it varies from time to time ). Maybe it is because we are using **too many features** and some of the words in review are not very usefull which might introduce **noisy** instead.\n",
    "- The next step is to use the test data we saved before to test the models. Here, we will only test the logistic regession and SVC model with **TF-IDF preprocessing**."
   ]
  },
  {
   "cell_type": "markdown",
   "metadata": {},
   "source": [
    "## 3.3 Comparing different algorithms:\n",
    "\n",
    "### The final step is to test the models I used before to see which one is better for the test data set."
   ]
  },
  {
   "cell_type": "code",
   "execution_count": 117,
   "metadata": {},
   "outputs": [
    {
     "data": {
      "text/html": [
       "<div>\n",
       "<style scoped>\n",
       "    .dataframe tbody tr th:only-of-type {\n",
       "        vertical-align: middle;\n",
       "    }\n",
       "\n",
       "    .dataframe tbody tr th {\n",
       "        vertical-align: top;\n",
       "    }\n",
       "\n",
       "    .dataframe thead th {\n",
       "        text-align: right;\n",
       "    }\n",
       "</style>\n",
       "<table border=\"1\" class=\"dataframe\">\n",
       "  <thead>\n",
       "    <tr style=\"text-align: right;\">\n",
       "      <th></th>\n",
       "      <th>author</th>\n",
       "      <th>date</th>\n",
       "      <th>declarative</th>\n",
       "      <th>image</th>\n",
       "      <th>rate</th>\n",
       "      <th>review_body</th>\n",
       "      <th>review_format</th>\n",
       "      <th>review_title</th>\n",
       "      <th>fake_review</th>\n",
       "    </tr>\n",
       "  </thead>\n",
       "  <tbody>\n",
       "    <tr>\n",
       "      <th>0</th>\n",
       "      <td>Rick Casey</td>\n",
       "      <td>2017-05-18</td>\n",
       "      <td>Verified Purchase</td>\n",
       "      <td>False</td>\n",
       "      <td>5.0</td>\n",
       "      <td>These are Great, Small, and Bright flashlights...</td>\n",
       "      <td>Black</td>\n",
       "      <td>Great Value Flashlights</td>\n",
       "      <td>0.0</td>\n",
       "    </tr>\n",
       "    <tr>\n",
       "      <th>1</th>\n",
       "      <td>John M</td>\n",
       "      <td>2017-05-18</td>\n",
       "      <td>Verified Purchase</td>\n",
       "      <td>False</td>\n",
       "      <td>5.0</td>\n",
       "      <td>Very bright and compact</td>\n",
       "      <td>Black</td>\n",
       "      <td>Five Stars</td>\n",
       "      <td>0.0</td>\n",
       "    </tr>\n",
       "    <tr>\n",
       "      <th>2</th>\n",
       "      <td>Aaron</td>\n",
       "      <td>2017-08-31</td>\n",
       "      <td>Verified Purchase</td>\n",
       "      <td>False</td>\n",
       "      <td>5.0</td>\n",
       "      <td>A must for everyone. Works very well</td>\n",
       "      <td>Black</td>\n",
       "      <td>Five Stars</td>\n",
       "      <td>0.0</td>\n",
       "    </tr>\n",
       "    <tr>\n",
       "      <th>3</th>\n",
       "      <td>Brittney Peebles</td>\n",
       "      <td>2017-03-30</td>\n",
       "      <td>Verified Purchase</td>\n",
       "      <td>False</td>\n",
       "      <td>5.0</td>\n",
       "      <td>My husband works in the oilfield so I grabbed ...</td>\n",
       "      <td>Black</td>\n",
       "      <td>Great small flashlight</td>\n",
       "      <td>0.0</td>\n",
       "    </tr>\n",
       "    <tr>\n",
       "      <th>4</th>\n",
       "      <td>butta yehonatan yaakove</td>\n",
       "      <td>2017-10-25</td>\n",
       "      <td>Verified Purchase</td>\n",
       "      <td>False</td>\n",
       "      <td>5.0</td>\n",
       "      <td>very good</td>\n",
       "      <td>Black</td>\n",
       "      <td>Five Stars</td>\n",
       "      <td>0.0</td>\n",
       "    </tr>\n",
       "  </tbody>\n",
       "</table>\n",
       "</div>"
      ],
      "text/plain": [
       "                    author       date        declarative  image  rate  \\\n",
       "0               Rick Casey 2017-05-18  Verified Purchase  False   5.0   \n",
       "1                   John M 2017-05-18  Verified Purchase  False   5.0   \n",
       "2                    Aaron 2017-08-31  Verified Purchase  False   5.0   \n",
       "3         Brittney Peebles 2017-03-30  Verified Purchase  False   5.0   \n",
       "4  butta yehonatan yaakove 2017-10-25  Verified Purchase  False   5.0   \n",
       "\n",
       "                                         review_body review_format  \\\n",
       "0  These are Great, Small, and Bright flashlights...         Black   \n",
       "1                            Very bright and compact         Black   \n",
       "2               A must for everyone. Works very well         Black   \n",
       "3  My husband works in the oilfield so I grabbed ...         Black   \n",
       "4                                          very good         Black   \n",
       "\n",
       "              review_title  fake_review  \n",
       "0  Great Value Flashlights          0.0  \n",
       "1               Five Stars          0.0  \n",
       "2               Five Stars          0.0  \n",
       "3   Great small flashlight          0.0  \n",
       "4               Five Stars          0.0  "
      ]
     },
     "execution_count": 117,
     "metadata": {},
     "output_type": "execute_result"
    }
   ],
   "source": [
    "test.head()"
   ]
  },
  {
   "cell_type": "code",
   "execution_count": 118,
   "metadata": {},
   "outputs": [
    {
     "data": {
      "text/plain": [
       "0.6928104575163399"
      ]
     },
     "execution_count": 118,
     "metadata": {},
     "output_type": "execute_result"
    }
   ],
   "source": [
    "# logistic regression without tfidf\n",
    "#%%time\n",
    "lr1 = LogisticRegression(random_state=20, max_iter=10000, C=0.5, multi_class= 'ovr', solver= 'saga')\n",
    "lr1.fit(X, y)\n",
    "lr1.score(X_test, y_test)"
   ]
  },
  {
   "cell_type": "code",
   "execution_count": 119,
   "metadata": {},
   "outputs": [
    {
     "data": {
      "text/plain": [
       "array([[ 5,  0,  1,  1,  4],\n",
       "       [ 1,  0,  0,  3,  4],\n",
       "       [ 1,  0,  0,  1,  8],\n",
       "       [ 0,  0,  0,  2, 18],\n",
       "       [ 3,  1,  0,  1, 99]])"
      ]
     },
     "execution_count": 119,
     "metadata": {},
     "output_type": "execute_result"
    }
   ],
   "source": [
    "conf_matrix = confusion_matrix(y_test, lr1.predict(X_test), labels=[1,2,3,4,5])\n",
    "conf_matrix"
   ]
  },
  {
   "cell_type": "code",
   "execution_count": 120,
   "metadata": {},
   "outputs": [
    {
     "data": {
      "text/plain": [
       "0.6862745098039216"
      ]
     },
     "execution_count": 120,
     "metadata": {},
     "output_type": "execute_result"
    }
   ],
   "source": [
    "# logistic regression with tfidf\n",
    "#%%time\n",
    "lr2 = LogisticRegression(random_state=20, max_iter=10000, C= 1, multi_class='ovr', solver='saga')\n",
    "lr2.fit(X_tfidf, y_tfidf)\n",
    "lr2.score(X_tfidf_test, y_tfidf_test)"
   ]
  },
  {
   "cell_type": "code",
   "execution_count": 121,
   "metadata": {},
   "outputs": [
    {
     "data": {
      "text/plain": [
       "array([[  3,   0,   1,   2,   5],\n",
       "       [  1,   0,   0,   1,   6],\n",
       "       [  1,   0,   0,   0,   9],\n",
       "       [  0,   0,   0,   0,  20],\n",
       "       [  2,   0,   0,   0, 102]])"
      ]
     },
     "execution_count": 121,
     "metadata": {},
     "output_type": "execute_result"
    }
   ],
   "source": [
    "conf_matrix = confusion_matrix(y_tfidf_test, lr2.predict(X_tfidf_test), labels=[1,2,3,4,5])\n",
    "conf_matrix"
   ]
  },
  {
   "cell_type": "code",
   "execution_count": 122,
   "metadata": {},
   "outputs": [
    {
     "data": {
      "text/plain": [
       "0.6797385620915033"
      ]
     },
     "execution_count": 122,
     "metadata": {},
     "output_type": "execute_result"
    }
   ],
   "source": [
    "# SVC with tfidf\n",
    "svc = SVC(random_state=20, C=10, decision_function_shape='ovo', kernel= 'rbf')\n",
    "svc.fit(X_tfidf, y_tfidf)\n",
    "svc.score(X_tfidf_test, y_tfidf_test)"
   ]
  },
  {
   "cell_type": "code",
   "execution_count": 124,
   "metadata": {},
   "outputs": [
    {
     "data": {
      "text/plain": [
       "array([[  0,   0,   0,   0,  11],\n",
       "       [  0,   0,   0,   0,   8],\n",
       "       [  0,   0,   0,   0,  10],\n",
       "       [  0,   0,   0,   0,  20],\n",
       "       [  0,   0,   0,   0, 104]])"
      ]
     },
     "execution_count": 124,
     "metadata": {},
     "output_type": "execute_result"
    }
   ],
   "source": [
    "conf_matrix = confusion_matrix(y_tfidf_test, svc.predict(X_tfidf_test), labels=[1,2,3,4,5])\n",
    "conf_matrix # this is very bad, all results are classified as 5 point."
   ]
  },
  {
   "cell_type": "markdown",
   "metadata": {},
   "source": [
    "# 4. Algorithm analysis:\n",
    "- The better mothod to choose: **Logistic Regression**\n",
    "    1. In this case, the logistic regression method (without tf-idf) gives a better prediction accuracy of the rating.\n",
    "    2. SVM works better when the number of features is much larger than the number of samples, but the number of features is not large enough. This is the main reason why the SVM doesn't work well in this case.\n",
    "    3. It seems that there is a linear decision boundary existing among different classes."
   ]
  },
  {
   "cell_type": "markdown",
   "metadata": {},
   "source": [
    "# 5. Attachment (Other methods):\n",
    "- There are some other techniques that I tried to improve the accuracy of the model. Unfortunately, they didn't provide better perfomance for some reason. I just attached the method I tried to give simple donmenstration of their performance. "
   ]
  },
  {
   "cell_type": "markdown",
   "metadata": {},
   "source": [
    "### 1. SMOTE \n",
    "- SMOTE is an oversampling method. \n",
    "- It works by creating synthetic samples from the minor class instead of creating copies. "
   ]
  },
  {
   "cell_type": "code",
   "execution_count": 125,
   "metadata": {},
   "outputs": [],
   "source": [
    "from imblearn.over_sampling import SMOTE"
   ]
  },
  {
   "cell_type": "code",
   "execution_count": 126,
   "metadata": {},
   "outputs": [],
   "source": [
    "sm = SMOTE(random_state=12, ratio = 'auto')\n",
    "x_res, y_res = sm.fit_sample(X_tfidf, y_tfidf)"
   ]
  },
  {
   "cell_type": "code",
   "execution_count": 127,
   "metadata": {},
   "outputs": [
    {
     "data": {
      "image/png": "[encoded data removed]",
      "text/plain": [
       "<Figure size 432x288 with 1 Axes>"
      ]
     },
     "metadata": {},
     "output_type": "display_data"
    }
   ],
   "source": [
    "# show the oversampled dataset. Now, we have balanced sample.\n",
    "plt.hist(y_res)\n",
    "plt.hist(y)\n",
    "plt.show()"
   ]
  },
  {
   "cell_type": "code",
   "execution_count": 128,
   "metadata": {},
   "outputs": [],
   "source": [
    "# test the resample dataset\n",
    "svc = SVC(random_state=20, C=10, decision_function_shape='ovo', kernel= 'rbf')\n",
    "svc.fit(x_res, y_res)\n",
    "scores = cross_validate(svc, x_res, y_res, cv=10, n_jobs=-1, return_train_score=True)"
   ]
  },
  {
   "cell_type": "code",
   "execution_count": 129,
   "metadata": {},
   "outputs": [
    {
     "data": {
      "text/plain": [
       "{'fit_time': array([1.19377184, 1.16960812, 1.15693593, 1.22996664, 1.22544718,\n",
       "        1.22238016, 1.20991015, 1.17514181, 0.89420748, 0.89992166]),\n",
       " 'score_time': array([0.1293385 , 0.12776065, 0.12254834, 0.14433289, 0.14707589,\n",
       "        0.1512239 , 0.14825201, 0.13623571, 0.07862902, 0.0784297 ]),\n",
       " 'test_score': array([0.66666667, 0.77948718, 0.83589744, 0.77435897, 0.75384615,\n",
       "        0.82564103, 0.77435897, 0.76923077, 0.82051282, 0.78421053]),\n",
       " 'train_score': array([0.83542857, 0.82228571, 0.81828571, 0.81657143, 0.816     ,\n",
       "        0.81142857, 0.81771429, 0.804     , 0.816     , 0.81538462])}"
      ]
     },
     "execution_count": 129,
     "metadata": {},
     "output_type": "execute_result"
    }
   ],
   "source": [
    "scores\n",
    "# it works very good on the training dataset, even by using cross validation\n",
    "# it even reach a accuracy of 87%"
   ]
  },
  {
   "cell_type": "code",
   "execution_count": 130,
   "metadata": {},
   "outputs": [
    {
     "data": {
      "text/plain": [
       "0.5555555555555556"
      ]
     },
     "execution_count": 130,
     "metadata": {},
     "output_type": "execute_result"
    }
   ],
   "source": [
    "# try on the test data, however, the result not very good\n",
    "# reason might be overfitting\n",
    "svc.score(X_tfidf_test, y_tfidf_test)"
   ]
  },
  {
   "cell_type": "code",
   "execution_count": 131,
   "metadata": {},
   "outputs": [
    {
     "data": {
      "text/plain": [
       "array([[ 7,  2,  0,  2,  0],\n",
       "       [ 5,  0,  1,  2,  0],\n",
       "       [ 4,  2,  1,  1,  2],\n",
       "       [ 2,  3,  1, 10,  4],\n",
       "       [ 6,  3,  7, 21, 67]])"
      ]
     },
     "execution_count": 131,
     "metadata": {},
     "output_type": "execute_result"
    }
   ],
   "source": [
    "conf_matrix = confusion_matrix(y_tfidf_test, svc.predict(X_tfidf_test), labels=[1,2,3,4,5])\n",
    "conf_matrix\n",
    "# but the model doesn't blindly predict all the result as class 5 (not like the previous SVC method)\n",
    "# if we reduce the number of class, let's say 3 classes (or even 2), this would give a better performance\n",
    "# SMOTE method is a good way to handle the imbalanced dataset, but we have a multiclass dataset, \n",
    "# so it might be the reason the method not working"
   ]
  },
  {
   "cell_type": "markdown",
   "metadata": {},
   "source": [
    "### 2. Feature Selection\n",
    "- There are many 206 features used in the model.\n",
    "- As I mentioned before, it's very possible that we have the overfitting issue in the model.\n",
    "- Using the sklearn's feature selection function to try to reduce the dimention of the model."
   ]
  },
  {
   "cell_type": "code",
   "execution_count": 132,
   "metadata": {},
   "outputs": [],
   "source": [
    "from sklearn.feature_selection import SelectFromModel"
   ]
  },
  {
   "cell_type": "code",
   "execution_count": 142,
   "metadata": {},
   "outputs": [
    {
     "data": {
      "text/plain": [
       "LogisticRegression(C=1, class_weight=None, dual=False, fit_intercept=True,\n",
       "          intercept_scaling=1, max_iter=10000, multi_class='ovr', n_jobs=1,\n",
       "          penalty='l2', random_state=20, solver='saga', tol=0.0001,\n",
       "          verbose=0, warm_start=False)"
      ]
     },
     "execution_count": 142,
     "metadata": {},
     "output_type": "execute_result"
    }
   ],
   "source": [
    "# model from previous logistic regression\n",
    "lr2 = LogisticRegression(random_state=20, max_iter=10000, C= 1, multi_class='ovr', solver='saga')\n",
    "lr2.fit(X_tfidf, y_tfidf)"
   ]
  },
  {
   "cell_type": "code",
   "execution_count": 143,
   "metadata": {},
   "outputs": [],
   "source": [
    "model = SelectFromModel(lr2, prefit=True)\n",
    "index_smote = model.get_support()"
   ]
  },
  {
   "cell_type": "code",
   "execution_count": 144,
   "metadata": {},
   "outputs": [],
   "source": [
    "X_new = model.transform(X_tfidf)"
   ]
  },
  {
   "cell_type": "code",
   "execution_count": 145,
   "metadata": {},
   "outputs": [
    {
     "data": {
      "text/plain": [
       "(608, 86)"
      ]
     },
     "execution_count": 145,
     "metadata": {},
     "output_type": "execute_result"
    }
   ],
   "source": [
    "X_new.shape\n",
    "# the number of features has been reduced significantly, now only 86 features"
   ]
  },
  {
   "cell_type": "code",
   "execution_count": 147,
   "metadata": {},
   "outputs": [
    {
     "data": {
      "text/plain": [
       "LogisticRegression(C=1, class_weight=None, dual=False, fit_intercept=True,\n",
       "          intercept_scaling=1, max_iter=10000, multi_class='ovr', n_jobs=1,\n",
       "          penalty='l2', random_state=20, solver='saga', tol=0.0001,\n",
       "          verbose=0, warm_start=False)"
      ]
     },
     "execution_count": 147,
     "metadata": {},
     "output_type": "execute_result"
    }
   ],
   "source": [
    "lr2.fit(X_new, y_tfidf)"
   ]
  },
  {
   "cell_type": "code",
   "execution_count": 148,
   "metadata": {},
   "outputs": [
    {
     "data": {
      "text/plain": [
       "{'fit_time': array([0.06875324, 0.05291128, 0.05309749, 0.05235982, 0.05301595,\n",
       "        0.05394053, 0.05445027, 0.05416203, 0.05286527, 0.0658052 ]),\n",
       " 'score_time': array([0.00029874, 0.00019503, 0.00018668, 0.00018954, 0.00020599,\n",
       "        0.00023484, 0.00019145, 0.00018692, 0.00018668, 0.00045395]),\n",
       " 'test_accuracy': array([0.64516129, 0.62903226, 0.67741935, 0.64516129, 0.64516129,\n",
       "        0.69354839, 0.68852459, 0.6440678 , 0.69491525, 0.70175439]),\n",
       " 'train_accuracy': array([0.70695971, 0.6996337 , 0.70879121, 0.71794872, 0.71245421,\n",
       "        0.7014652 , 0.69652651, 0.71038251, 0.70491803, 0.71506352])}"
      ]
     },
     "execution_count": 148,
     "metadata": {},
     "output_type": "execute_result"
    }
   ],
   "source": [
    "scores = cross_validate(lr2, X_new, y_tfidf, cv=10, \n",
    "                        scoring=['accuracy'],\n",
    "                        return_train_score=True\n",
    "                       )\n",
    "scores # the results are pretty much the same as before"
   ]
  },
  {
   "cell_type": "code",
   "execution_count": 157,
   "metadata": {},
   "outputs": [],
   "source": [
    "# reduce the dimension of the feature for the test data\n",
    "X_new = test_tfidf.loc[:207]\n",
    "new_x = X_new.iloc[:,index_smote]\n",
    "new_y = test_tfidf['y']"
   ]
  },
  {
   "cell_type": "code",
   "execution_count": 158,
   "metadata": {},
   "outputs": [
    {
     "data": {
      "text/html": [
       "<div>\n",
       "<style scoped>\n",
       "    .dataframe tbody tr th:only-of-type {\n",
       "        vertical-align: middle;\n",
       "    }\n",
       "\n",
       "    .dataframe tbody tr th {\n",
       "        vertical-align: top;\n",
       "    }\n",
       "\n",
       "    .dataframe thead th {\n",
       "        text-align: right;\n",
       "    }\n",
       "</style>\n",
       "<table border=\"1\" class=\"dataframe\">\n",
       "  <thead>\n",
       "    <tr style=\"text-align: right;\">\n",
       "      <th></th>\n",
       "      <th>format_</th>\n",
       "      <th>adjust</th>\n",
       "      <th>awesome</th>\n",
       "      <th>bad</th>\n",
       "      <th>battery</th>\n",
       "      <th>break</th>\n",
       "      <th>bright</th>\n",
       "      <th>button</th>\n",
       "      <th>buy</th>\n",
       "      <th>cap</th>\n",
       "      <th>...</th>\n",
       "      <th>little</th>\n",
       "      <th>love</th>\n",
       "      <th>make</th>\n",
       "      <th>nice</th>\n",
       "      <th>perfect</th>\n",
       "      <th>price</th>\n",
       "      <th>quality</th>\n",
       "      <th>small</th>\n",
       "      <th>work</th>\n",
       "      <th>fake_review</th>\n",
       "    </tr>\n",
       "  </thead>\n",
       "  <tbody>\n",
       "    <tr>\n",
       "      <th>0</th>\n",
       "      <td>0.0</td>\n",
       "      <td>0.0</td>\n",
       "      <td>0.0</td>\n",
       "      <td>0.0</td>\n",
       "      <td>0.000000</td>\n",
       "      <td>0.0</td>\n",
       "      <td>0.240136</td>\n",
       "      <td>0.0</td>\n",
       "      <td>0.0</td>\n",
       "      <td>0.0</td>\n",
       "      <td>...</td>\n",
       "      <td>0.0</td>\n",
       "      <td>0.0</td>\n",
       "      <td>0.0</td>\n",
       "      <td>0.0</td>\n",
       "      <td>0.0</td>\n",
       "      <td>0.0</td>\n",
       "      <td>0.0</td>\n",
       "      <td>0.000000</td>\n",
       "      <td>0.0</td>\n",
       "      <td>0.0</td>\n",
       "    </tr>\n",
       "    <tr>\n",
       "      <th>1</th>\n",
       "      <td>0.0</td>\n",
       "      <td>0.0</td>\n",
       "      <td>0.0</td>\n",
       "      <td>0.0</td>\n",
       "      <td>0.000000</td>\n",
       "      <td>0.0</td>\n",
       "      <td>0.475015</td>\n",
       "      <td>0.0</td>\n",
       "      <td>0.0</td>\n",
       "      <td>0.0</td>\n",
       "      <td>...</td>\n",
       "      <td>0.0</td>\n",
       "      <td>0.0</td>\n",
       "      <td>0.0</td>\n",
       "      <td>0.0</td>\n",
       "      <td>0.0</td>\n",
       "      <td>0.0</td>\n",
       "      <td>0.0</td>\n",
       "      <td>0.000000</td>\n",
       "      <td>0.0</td>\n",
       "      <td>0.0</td>\n",
       "    </tr>\n",
       "    <tr>\n",
       "      <th>2</th>\n",
       "      <td>0.0</td>\n",
       "      <td>0.0</td>\n",
       "      <td>0.0</td>\n",
       "      <td>0.0</td>\n",
       "      <td>0.000000</td>\n",
       "      <td>0.0</td>\n",
       "      <td>0.000000</td>\n",
       "      <td>0.0</td>\n",
       "      <td>0.0</td>\n",
       "      <td>0.0</td>\n",
       "      <td>...</td>\n",
       "      <td>0.0</td>\n",
       "      <td>0.0</td>\n",
       "      <td>0.0</td>\n",
       "      <td>0.0</td>\n",
       "      <td>0.0</td>\n",
       "      <td>0.0</td>\n",
       "      <td>0.0</td>\n",
       "      <td>0.000000</td>\n",
       "      <td>0.0</td>\n",
       "      <td>0.0</td>\n",
       "    </tr>\n",
       "    <tr>\n",
       "      <th>3</th>\n",
       "      <td>0.0</td>\n",
       "      <td>0.0</td>\n",
       "      <td>0.0</td>\n",
       "      <td>0.0</td>\n",
       "      <td>0.187049</td>\n",
       "      <td>0.0</td>\n",
       "      <td>0.000000</td>\n",
       "      <td>0.0</td>\n",
       "      <td>0.0</td>\n",
       "      <td>0.0</td>\n",
       "      <td>...</td>\n",
       "      <td>0.0</td>\n",
       "      <td>0.0</td>\n",
       "      <td>0.0</td>\n",
       "      <td>0.0</td>\n",
       "      <td>0.0</td>\n",
       "      <td>0.0</td>\n",
       "      <td>0.0</td>\n",
       "      <td>0.802501</td>\n",
       "      <td>0.0</td>\n",
       "      <td>0.0</td>\n",
       "    </tr>\n",
       "    <tr>\n",
       "      <th>4</th>\n",
       "      <td>0.0</td>\n",
       "      <td>0.0</td>\n",
       "      <td>0.0</td>\n",
       "      <td>0.0</td>\n",
       "      <td>0.000000</td>\n",
       "      <td>0.0</td>\n",
       "      <td>0.000000</td>\n",
       "      <td>0.0</td>\n",
       "      <td>0.0</td>\n",
       "      <td>0.0</td>\n",
       "      <td>...</td>\n",
       "      <td>0.0</td>\n",
       "      <td>0.0</td>\n",
       "      <td>0.0</td>\n",
       "      <td>0.0</td>\n",
       "      <td>0.0</td>\n",
       "      <td>0.0</td>\n",
       "      <td>0.0</td>\n",
       "      <td>0.000000</td>\n",
       "      <td>0.0</td>\n",
       "      <td>0.0</td>\n",
       "    </tr>\n",
       "  </tbody>\n",
       "</table>\n",
       "<p>5 rows × 86 columns</p>\n",
       "</div>"
      ],
      "text/plain": [
       "   format_  adjust  awesome  bad   battery  break    bright  button  buy  cap  \\\n",
       "0      0.0     0.0      0.0  0.0  0.000000    0.0  0.240136     0.0  0.0  0.0   \n",
       "1      0.0     0.0      0.0  0.0  0.000000    0.0  0.475015     0.0  0.0  0.0   \n",
       "2      0.0     0.0      0.0  0.0  0.000000    0.0  0.000000     0.0  0.0  0.0   \n",
       "3      0.0     0.0      0.0  0.0  0.187049    0.0  0.000000     0.0  0.0  0.0   \n",
       "4      0.0     0.0      0.0  0.0  0.000000    0.0  0.000000     0.0  0.0  0.0   \n",
       "\n",
       "      ...       little  love  make  nice  perfect  price  quality     small  \\\n",
       "0     ...          0.0   0.0   0.0   0.0      0.0    0.0      0.0  0.000000   \n",
       "1     ...          0.0   0.0   0.0   0.0      0.0    0.0      0.0  0.000000   \n",
       "2     ...          0.0   0.0   0.0   0.0      0.0    0.0      0.0  0.000000   \n",
       "3     ...          0.0   0.0   0.0   0.0      0.0    0.0      0.0  0.802501   \n",
       "4     ...          0.0   0.0   0.0   0.0      0.0    0.0      0.0  0.000000   \n",
       "\n",
       "   work  fake_review  \n",
       "0   0.0          0.0  \n",
       "1   0.0          0.0  \n",
       "2   0.0          0.0  \n",
       "3   0.0          0.0  \n",
       "4   0.0          0.0  \n",
       "\n",
       "[5 rows x 86 columns]"
      ]
     },
     "execution_count": 158,
     "metadata": {},
     "output_type": "execute_result"
    }
   ],
   "source": [
    "new_x.head()"
   ]
  },
  {
   "cell_type": "code",
   "execution_count": 160,
   "metadata": {},
   "outputs": [
    {
     "data": {
      "text/plain": [
       "0.6797385620915033"
      ]
     },
     "execution_count": 160,
     "metadata": {},
     "output_type": "execute_result"
    }
   ],
   "source": [
    "lr2.score(new_x, new_y) # the result hasn't improved"
   ]
  },
  {
   "cell_type": "code",
   "execution_count": 161,
   "metadata": {},
   "outputs": [
    {
     "data": {
      "text/plain": [
       "array([[  3,   0,   0,   1,   7],\n",
       "       [  0,   0,   0,   1,   7],\n",
       "       [  1,   0,   0,   0,   9],\n",
       "       [  0,   0,   0,   0,  20],\n",
       "       [  3,   0,   0,   0, 101]])"
      ]
     },
     "execution_count": 161,
     "metadata": {},
     "output_type": "execute_result"
    }
   ],
   "source": [
    "conf_matrix = confusion_matrix(new_y, lr2.predict(new_x), labels=[1,2,3,4,5])\n",
    "conf_matrix # most of the results are classified as 5 point\n",
    "# after comparing other models with the previous ones,\n",
    "# it turns out that reducing the number of features did not improve the result"
   ]
  },
  {
   "cell_type": "code",
   "execution_count": null,
   "metadata": {},
   "outputs": [],
   "source": []
  }
 ],
 "metadata": {
  "kernelspec": {
   "display_name": "Python 3",
   "language": "python",
   "name": "python3"
  },
  "language_info": {
   "codemirror_mode": {
    "name": "ipython",
    "version": 3
   },
   "file_extension": ".py",
   "mimetype": "text/x-python",
   "name": "python",
   "nbconvert_exporter": "python",
   "pygments_lexer": "ipython3",
   "version": "3.6.4"
  }
 },
 "nbformat": 4,
 "nbformat_minor": 2
}
